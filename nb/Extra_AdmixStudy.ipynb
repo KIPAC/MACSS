{
 "cells": [
  {
   "cell_type": "code",
   "execution_count": null,
   "id": "21d369f9-b47a-41f7-9374-c6f8262cbcd5",
   "metadata": {},
   "outputs": [],
   "source": [
    "import os\n",
    "import tables_io\n",
    "import numpy as np\n",
    "import matplotlib.pyplot as plt\n",
    "import pyccl as ccl\n",
    "from macss import utility_functions\n",
    "from macss import plotting_functions\n",
    "from macss import admixture_functions\n",
    "\n",
    "from scipy.stats import sigmaclip\n",
    "from astropy.stats import biweight_location, biweight_scale\n",
    "from sklearn.neighbors import KNeighborsRegressor, RadiusNeighborsRegressor"
   ]
  },
  {
   "cell_type": "code",
   "execution_count": null,
   "id": "e65ee0de-df10-472f-a4bf-d46898b32ce4",
   "metadata": {},
   "outputs": [],
   "source": [
    "HOME = os.environ['HOME']\n",
    "pz_dir = f'{HOME}/macss'"
   ]
  },
  {
   "cell_type": "code",
   "execution_count": null,
   "id": "d1ab3c7d-bdc4-4711-b544-cb2c18d10de1",
   "metadata": {},
   "outputs": [],
   "source": [
    "train = tables_io.read(f\"{pz_dir}/data/dp1_matched_v4_train.hdf5\")\n",
    "test = tables_io.read(f\"{pz_dir}/data/dp1_matched_v4_test.hdf5\")\n",
    "d = tables_io.read(f\"{pz_dir}/data/dp1_v29.0.0_gold_ECDFS.hdf5\")\n"
   ]
  },
  {
   "cell_type": "code",
   "execution_count": null,
   "id": "a380b829-8d31-4c84-bc37-73fbc7bba03c",
   "metadata": {},
   "outputs": [],
   "source": [
    "\n",
    "band_names = utility_functions.make_band_names('LSST_obs_{band}', 'ugrizy')"
   ]
  },
  {
   "cell_type": "code",
   "execution_count": null,
   "id": "1592f92d-236a-4866-a9e7-c61f0c7e7505",
   "metadata": {},
   "outputs": [],
   "source": [
    "train_features = utility_functions.get_band_values(train, '{band}_gaap1p0Mag', 'ugrizy')\n",
    "train_targets = train['redshift']\n",
    "test_features = utility_functions.get_band_values(test, '{band}_gaap1p0Mag', 'ugrizy')\n",
    "test_targets = test['redshift']\n"
   ]
  },
  {
   "cell_type": "code",
   "execution_count": null,
   "id": "1e70b3b0-a6d8-4b9b-b7dc-8c327d089ef9",
   "metadata": {},
   "outputs": [],
   "source": [
    "knr = KNeighborsRegressor()"
   ]
  },
  {
   "cell_type": "code",
   "execution_count": null,
   "id": "668a83e6-5faf-498e-94a4-ebe17272c736",
   "metadata": {},
   "outputs": [],
   "source": [
    "def run_it(reg):\n",
    "    preds = utility_functions.run_regression(reg, train_features, train_targets, test_features)\n",
    "    _ = plotting_functions.plot_true_predict_fancy(test_targets, np.nan_to_num(preds, -0.4))\n",
    "    _ = plotting_functions.plot_biweight_stats_v_redshift(test_targets, preds)"
   ]
  },
  {
   "cell_type": "code",
   "execution_count": null,
   "id": "569d5772-0f50-4aca-8e48-e81215aa12bc",
   "metadata": {},
   "outputs": [],
   "source": [
    "run_it(knr)"
   ]
  },
  {
   "cell_type": "code",
   "execution_count": null,
   "id": "180698ff-9772-4ccd-8a52-0bb524148eea",
   "metadata": {},
   "outputs": [],
   "source": [
    "library = utility_functions.get_band_values(d, '{band}_gaap1p0Mag', 'ugrizy')"
   ]
  },
  {
   "cell_type": "code",
   "execution_count": null,
   "id": "44596097-bfd2-41ab-be36-1edade4382ba",
   "metadata": {},
   "outputs": [],
   "source": [
    "admix_grid = np.logspace(-4, 0, 17)"
   ]
  },
  {
   "cell_type": "code",
   "execution_count": null,
   "id": "8d74907f-472a-47f9-9ca0-b69b0ef42990",
   "metadata": {},
   "outputs": [],
   "source": [
    "def doit(reg, nclip=1):\n",
    "    the_dict = {}\n",
    "    inputs = np.hstack([train_features])\n",
    "    est_orig = reg.predict(inputs)\n",
    "    means = []\n",
    "    stds = []\n",
    "    biweight_means = []\n",
    "    biweight_stds = []\n",
    "    clipped_fracs = []\n",
    "\n",
    "    outlier_fracs = []\n",
    "    for admix in admix_grid:\n",
    "        mixed_mags = admixture_functions.make_admixture(train_features, library, admixture=admix)\n",
    "        inputs = np.hstack([mixed_mags])\n",
    "        ad_vals = reg.predict(inputs)\n",
    "        deltas = (ad_vals - est_orig)/(1 + est_orig)\n",
    "        subset_clip, _, _ = sigmaclip(deltas, low=3, high=3)\n",
    "        for _j in range(nclip):\n",
    "            subset_clip, _, _ = sigmaclip(subset_clip, low=3, high=3)\n",
    "\n",
    "        clipped_fracs.append((len(deltas) - len(subset_clip))/(len(deltas)))\n",
    "        the_dict[admix] = deltas\n",
    "        outliers = (np.fabs(deltas) > 0.15).sum() / float(deltas.size)\n",
    "        outlier_fracs.append(outliers)\n",
    "        means.append(deltas.mean())\n",
    "        stds.append(deltas.std())\n",
    "        biweight_means.append(biweight_location(subset_clip))\n",
    "        biweight_stds.append(biweight_scale(subset_clip))\n",
    "\n",
    "    _ = plt.plot(admix_grid, means, label=r\"mean $\\delta z$\", ls='-.', color='blue')\n",
    "    _ = plt.plot(admix_grid, stds, label=r\"RMS $\\delta z$\", ls='-.', color='green')\n",
    "    _ = plt.plot(admix_grid, biweight_means, label=r\"biweight mean $\\delta z$\", ls='-', color='blue')\n",
    "    _ = plt.plot(admix_grid, biweight_stds, label=r\"biweight RMS $\\delta z$\", ls='-', color='green')    \n",
    "    _ = plt.plot(admix_grid, outlier_fracs, label=r\"f $\\frac{\\delta z}{1+z} > 0.15$\", ls='-', color='cyan')\n",
    "#    _ = plt.plot(admix_grid, clipped_fracs, label=r\"$f_{\\rm outlier}$\", ls='-.', color='cyan')\n",
    "    \n",
    "    _ = plt.xscale('log')\n",
    "    _ = plt.legend()\n",
    "    _ = plt.xlabel(\"Flux Admixture Fraction\")\n",
    "    _ = plt.ylabel(r\"$\\delta z$\")"
   ]
  },
  {
   "cell_type": "code",
   "execution_count": null,
   "id": "584957e0-bc3b-4af6-8cdb-58eb657799e2",
   "metadata": {},
   "outputs": [],
   "source": [
    "doit(knr)"
   ]
  },
  {
   "cell_type": "code",
   "execution_count": null,
   "id": "debec7c4-395d-4598-88fc-bdbd32e7b49f",
   "metadata": {},
   "outputs": [],
   "source": []
  },
  {
   "cell_type": "code",
   "execution_count": null,
   "id": "13aa305f-44f6-4333-95a0-6f6f929d5fdc",
   "metadata": {},
   "outputs": [],
   "source": []
  }
 ],
 "metadata": {
  "kernelspec": {
   "display_name": "Python 3 (ipykernel)",
   "language": "python",
   "name": "python3"
  },
  "language_info": {
   "codemirror_mode": {
    "name": "ipython",
    "version": 3
   },
   "file_extension": ".py",
   "mimetype": "text/x-python",
   "name": "python",
   "nbconvert_exporter": "python",
   "pygments_lexer": "ipython3",
   "version": "3.12.9"
  }
 },
 "nbformat": 4,
 "nbformat_minor": 5
}
