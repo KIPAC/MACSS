{
 "cells": [
  {
   "cell_type": "markdown",
   "id": "98150c28-c373-4102-8490-aec83e2db31f",
   "metadata": {},
   "source": [
    "## This notebook looks at how adding some flux contamination from another source affect redshift estimation\n",
    "\n",
    "We are going modify the fluxes of the objects but adding a small amount of flux from a different object,\n",
    "while keeping the total flux of the object the same.  \n",
    "\n",
    "This will slightly change the spectrum of the object to look a little bit more like the spectrum of the contaminating object.\n",
    "We will characterize this effect as a function of the relative amount of contamination."
   ]
  },
  {
   "cell_type": "markdown",
   "id": "d20c8940-c6b4-40e6-8d53-df8e1ec4f3f8",
   "metadata": {},
   "source": [
    "#### Standard imports"
   ]
  },
  {
   "cell_type": "code",
   "execution_count": 1,
   "id": "21d369f9-b47a-41f7-9374-c6f8262cbcd5",
   "metadata": {},
   "outputs": [],
   "source": [
    "import os\n",
    "import tables_io\n",
    "import numpy as np\n",
    "import matplotlib.pyplot as plt\n",
    "import pyccl as ccl\n",
    "from macss import utility_functions\n",
    "from macss import plotting_functions\n",
    "from macss import admixture_functions\n",
    "\n",
    "from scipy.stats import sigmaclip\n",
    "from astropy.stats import biweight_location, biweight_scale\n",
    "from sklearn.neighbors import KNeighborsRegressor, RadiusNeighborsRegressor"
   ]
  },
  {
   "cell_type": "markdown",
   "id": "61f7d1c4-8eda-469c-a6bf-b7a68780bdfb",
   "metadata": {},
   "source": [
    "#### Change this to have the correct location"
   ]
  },
  {
   "cell_type": "code",
   "execution_count": 2,
   "id": "e65ee0de-df10-472f-a4bf-d46898b32ce4",
   "metadata": {},
   "outputs": [],
   "source": [
    "HOME = os.environ['HOME']\n",
    "pz_dir = f'{HOME}/macss'"
   ]
  },
  {
   "cell_type": "markdown",
   "id": "ea5c9f46-26b5-4189-bf9c-8286c93df4dd",
   "metadata": {},
   "source": [
    "#### Read test and training data, and a collection of objects to serve as library for the contamination"
   ]
  },
  {
   "cell_type": "code",
   "execution_count": null,
   "id": "d1ab3c7d-bdc4-4711-b544-cb2c18d10de1",
   "metadata": {},
   "outputs": [],
   "source": [
    "train = tables_io.read(f\"{pz_dir}/data/dp1_matched_v4_train.hdf5\")\n",
    "test = tables_io.read(f\"{pz_dir}/data/dp1_matched_v4_test.hdf5\")\n",
    "d = tables_io.read(f\"{pz_dir}/data/dp1_v29.0.0_gold_ECDFS.hdf5\")"
   ]
  },
  {
   "cell_type": "markdown",
   "id": "e0dac2c6-d6a1-46cd-a64e-f04e2e90e199",
   "metadata": {},
   "source": [
    "#### Extract test and training data"
   ]
  },
  {
   "cell_type": "code",
   "execution_count": null,
   "id": "1592f92d-236a-4866-a9e7-c61f0c7e7505",
   "metadata": {},
   "outputs": [],
   "source": [
    "train_features = utility_functions.get_band_values(train, '{band}_gaap1p0Mag', 'ugrizy')\n",
    "train_targets = train['redshift']\n",
    "test_features = utility_functions.get_band_values(test, '{band}_gaap1p0Mag', 'ugrizy')\n",
    "test_targets = test['redshift']"
   ]
  },
  {
   "cell_type": "markdown",
   "id": "b38737fe-367c-488a-b7d8-1bfa60808b9e",
   "metadata": {},
   "source": [
    "#### Set up a ML algorithm and a helper function to run it and make a nice plot"
   ]
  },
  {
   "cell_type": "code",
   "execution_count": null,
   "id": "1e70b3b0-a6d8-4b9b-b7dc-8c327d089ef9",
   "metadata": {},
   "outputs": [],
   "source": [
    "knr = KNeighborsRegressor()"
   ]
  },
  {
   "cell_type": "code",
   "execution_count": null,
   "id": "668a83e6-5faf-498e-94a4-ebe17272c736",
   "metadata": {},
   "outputs": [],
   "source": [
    "def run_it(reg):\n",
    "    preds = utility_functions.run_regression(reg, train_features, train_targets, test_features)\n",
    "    _ = plotting_functions.plot_true_predict_fancy(test_targets, np.nan_to_num(preds, -0.4))"
   ]
  },
  {
   "cell_type": "markdown",
   "id": "87830747-f9d1-465a-80bd-2e67da34f7a9",
   "metadata": {},
   "source": [
    "#### Get a regression model"
   ]
  },
  {
   "cell_type": "code",
   "execution_count": null,
   "id": "569d5772-0f50-4aca-8e48-e81215aa12bc",
   "metadata": {},
   "outputs": [],
   "source": [
    "run_it(knr)"
   ]
  },
  {
   "cell_type": "markdown",
   "id": "38b8c345-730c-4dfd-b6af-52f1c2716106",
   "metadata": {},
   "source": [
    "#### Make a library of data to draw the contamination from"
   ]
  },
  {
   "cell_type": "code",
   "execution_count": null,
   "id": "180698ff-9772-4ccd-8a52-0bb524148eea",
   "metadata": {},
   "outputs": [],
   "source": [
    "library = utility_functions.get_band_values(d, '{band}_gaap1p0Mag', 'ugrizy')"
   ]
  },
  {
   "cell_type": "markdown",
   "id": "d3fbff89-4cda-4983-a024-b294309ea629",
   "metadata": {},
   "source": [
    "#### We are going to evaluate the effect for many different levels of flux contamination\n",
    "\n",
    "We set up that grid here"
   ]
  },
  {
   "cell_type": "code",
   "execution_count": null,
   "id": "44596097-bfd2-41ab-be36-1edade4382ba",
   "metadata": {},
   "outputs": [],
   "source": [
    "admix_grid = np.logspace(-4, 0, 17)"
   ]
  },
  {
   "cell_type": "markdown",
   "id": "7fd903bd-4a49-46c3-9ea6-5fb23623dc06",
   "metadata": {},
   "source": [
    "#### Set up a function to iterate over the different levels of contamination and see how the affect the redshift"
   ]
  },
  {
   "cell_type": "code",
   "execution_count": null,
   "id": "8d74907f-472a-47f9-9ca0-b69b0ef42990",
   "metadata": {},
   "outputs": [],
   "source": [
    "def doit(reg, nclip=1):\n",
    "    the_dict = {}\n",
    "    inputs = np.hstack([train_features])\n",
    "    est_orig = reg.predict(inputs)\n",
    "    means = []\n",
    "    stds = []\n",
    "    biweight_means = []\n",
    "    biweight_stds = []\n",
    "    clipped_fracs = []\n",
    "\n",
    "    outlier_fracs = []\n",
    "    for admix in admix_grid:\n",
    "        mixed_mags = admixture_functions.make_admixture(train_features, library, admixture=admix)\n",
    "        inputs = np.hstack([mixed_mags])\n",
    "        ad_vals = reg.predict(inputs)\n",
    "        deltas = (ad_vals - est_orig)/(1 + est_orig)\n",
    "        subset_clip, _, _ = sigmaclip(deltas, low=3, high=3)\n",
    "        for _j in range(nclip):\n",
    "            subset_clip, _, _ = sigmaclip(subset_clip, low=3, high=3)\n",
    "\n",
    "        clipped_fracs.append((len(deltas) - len(subset_clip))/(len(deltas)))\n",
    "        the_dict[admix] = deltas\n",
    "        outliers = (np.fabs(deltas) > 0.15).sum() / float(deltas.size)\n",
    "        outlier_fracs.append(outliers)\n",
    "        means.append(deltas.mean())\n",
    "        stds.append(deltas.std())\n",
    "        biweight_means.append(biweight_location(subset_clip))\n",
    "        biweight_stds.append(biweight_scale(subset_clip))\n",
    "\n",
    "    _ = plt.plot(admix_grid, means, label=r\"mean $\\delta z$\", ls='-.', color='blue')\n",
    "    _ = plt.plot(admix_grid, stds, label=r\"RMS $\\delta z$\", ls='-.', color='green')\n",
    "    _ = plt.plot(admix_grid, biweight_means, label=r\"biweight mean $\\delta z$\", ls='-', color='blue')\n",
    "    _ = plt.plot(admix_grid, biweight_stds, label=r\"biweight RMS $\\delta z$\", ls='-', color='green')    \n",
    "    _ = plt.plot(admix_grid, outlier_fracs, label=r\"f $\\frac{\\delta z}{1+z} > 0.15$\", ls='-', color='cyan')\n",
    "#    _ = plt.plot(admix_grid, clipped_fracs, label=r\"$f_{\\rm outlier}$\", ls='-.', color='cyan')\n",
    "    \n",
    "    _ = plt.xscale('log')\n",
    "    _ = plt.legend()\n",
    "    _ = plt.xlabel(\"Flux Admixture Fraction\")\n",
    "    _ = plt.ylabel(r\"$\\delta z$\")"
   ]
  },
  {
   "cell_type": "code",
   "execution_count": null,
   "id": "584957e0-bc3b-4af6-8cdb-58eb657799e2",
   "metadata": {},
   "outputs": [],
   "source": [
    "doit(knr)"
   ]
  },
  {
   "cell_type": "code",
   "execution_count": null,
   "id": "13aa305f-44f6-4333-95a0-6f6f929d5fdc",
   "metadata": {},
   "outputs": [],
   "source": []
  }
 ],
 "metadata": {
  "kernelspec": {
   "display_name": "Python 3 (ipykernel)",
   "language": "python",
   "name": "python3"
  },
  "language_info": {
   "codemirror_mode": {
    "name": "ipython",
    "version": 3
   },
   "file_extension": ".py",
   "mimetype": "text/x-python",
   "name": "python",
   "nbconvert_exporter": "python",
   "pygments_lexer": "ipython3",
   "version": "3.12.9"
  }
 },
 "nbformat": 4,
 "nbformat_minor": 5
}
