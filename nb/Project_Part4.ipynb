{
 "cells": [
  {
   "cell_type": "markdown",
   "id": "b77711aa-f8ee-4d67-ac30-e271fc63ff10",
   "metadata": {},
   "source": [
    "### Part 4: Investigating ways to improve your regression model\n",
    "\n",
    "Goals: investigate if you can improve your regression model using additional fluxes or morphology information \n",
    "\n",
    "Specifics: The data that I provided contain some additional information that might be useful in redshift estimation, such as the sizes of the galaxies, and the different flux measurements are sensitive to light from different parts of the galaxies.\n",
    "\n",
    "You will need to:\n",
    "\n",
    "1. look at correlations between various flux measurements and see if you can find additional information that might be useful,\n",
    "2. try to add this information to a redshift estimation algorithm\n",
    "3. look at correlations with additional morphology information such as the sizes of galaxies, and see if you can find additional information that might be useful,\n",
    "4. try to add this morphology information to a redshift estimation algorithm.\n",
    "\n",
    "\n",
    "\n",
    "If you want to see what things should look like, you can have a look:\n",
    "\n",
    "1. in the notebook [07_GalaxySize.ipynb](https://github.com/KIPAC/MACSS/blob/main/nb/07_GalaxySize.ipynb) to see examples of computing magnitudes and colors.\n",
    "\n",
    "2. in the notebook [08_Morphology.ipynb](https://github.com/KIPAC/MACSS/blob/main/nb/08_Morphology.ipynb) to see some studies of how the different flux measurement are affected by the Galaxy size, and how that correlates with redshift.\n",
    "\n",
    "3. in the notebook [09_CosmoSize.ipynb](https://github.com/KIPAC/MACSS/blob/main/nb/09_CosmoSize.ipynb) to see how a Milkyway like Galaxy might appear at different redshifts.\n",
    "\n",
    "4. in the notebook [10_SklearnMorphology.ipynb](https://github.com/KIPAC/MACSS/blob/main/nb/10_SklearnMorphology.ipynb) to see an example of adding some morphology information to a redshift estimation algorithm.\n"
   ]
  },
  {
   "cell_type": "code",
   "execution_count": null,
   "id": "c868f449-7d9a-4d94-bd02-b82e0e932c04",
   "metadata": {},
   "outputs": [],
   "source": [
    "import os\n",
    "import tables_io\n",
    "import numpy as np\n",
    "import matplotlib.pyplot as plt\n",
    "from matplotlib.figure import Figure\n",
    "from sklearn import preprocessing\n",
    "from sklearn.decomposition import PCA\n",
    "from sklearn.ensemble import (HistGradientBoostingRegressor, ExtraTreesRegressor, AdaBoostRegressor)\n",
    "from sklearn.gaussian_process import GaussianProcessRegressor\n",
    "from sklearn.isotonic import IsotonicRegression\n",
    "from sklearn.linear_model import HuberRegressor, LinearRegression, QuantileRegressor\n",
    "from sklearn.svm import NuSVR\n",
    "from sklearn.neighbors import KNeighborsRegressor, RadiusNeighborsRegressor\n",
    "from sklearn import preprocessing\n",
    "from sklearn.decomposition import PCA"
   ]
  },
  {
   "cell_type": "markdown",
   "id": "7341ab0a-d8fb-413d-9532-aa5f8b4cd143",
   "metadata": {},
   "source": [
    "#### Change this to match the correct location"
   ]
  },
  {
   "cell_type": "code",
   "execution_count": null,
   "id": "ae19d60f-12ac-4581-a92e-09967fd13d17",
   "metadata": {},
   "outputs": [],
   "source": [
    "HOME = os.environ['HOME']\n",
    "pz_dir = f'{HOME}/macss'"
   ]
  },
  {
   "cell_type": "markdown",
   "id": "e70699dd-f3b2-49b7-ae89-3b00596296c1",
   "metadata": {},
   "source": [
    "#### Here we are going to prepare load test and training data"
   ]
  },
  {
   "cell_type": "code",
   "execution_count": null,
   "id": "cb5aca1e-89de-40bf-a610-cdce367ceab8",
   "metadata": {},
   "outputs": [],
   "source": [
    "train = tables_io.read(f'{pz_dir}/data/lsst_cat_matched_nonan_train.hdf5')\n",
    "test = tables_io.read(f'{pz_dir}/data/lsst_cat_matched_nonan_test.hdf5')\n"
   ]
  },
  {
   "cell_type": "markdown",
   "id": "f30bebab-cc1b-4e4b-8b77-f4769cd6310f",
   "metadata": {},
   "source": [
    "#### Here is an example of adding shape information to the ML \"features\""
   ]
  },
  {
   "cell_type": "code",
   "execution_count": null,
   "id": "3d6c28df-86d5-4b81-bfd0-2a666a9a8ed7",
   "metadata": {},
   "outputs": [],
   "source": [
    "def get_features_with_sersic_index(t):\n",
    "    sersic_x = t['sersic_reff_x']  \n",
    "    sersic_y = t['sersic_reff_y']\n",
    "    sersic_trace = np.nan_to_num(sersic_x*sersic_x + sersic_y*sersic_y, nan=0)\n",
    "    sersic_index = np.nan_to_num(t['sersic_index'], 0)\n",
    "\n",
    "    g_trace = np.nan_to_num(t['g_ixx'] + t['g_iyy'], nan=0)\n",
    "    z_trace = np.nan_to_num(t['z_ixx'] + t['z_iyy'], nan=0)\n",
    "\n",
    "    feature_list = [sersic_index, g_trace, z_trace, sersic_trace]\n",
    "    feature_list += [np.nan_to_num(t[f'{band}_psfMag'], nan=30) for band in 'ugrizy']\n",
    "    \n",
    "    return np.vstack(feature_list).T"
   ]
  },
  {
   "cell_type": "code",
   "execution_count": null,
   "id": "354d4bfe-5ec5-49a9-81c6-c4cf9b3ab0e6",
   "metadata": {},
   "outputs": [],
   "source": []
  },
  {
   "cell_type": "code",
   "execution_count": null,
   "id": "eac8c74e-cfaf-40ae-b12e-1d4229d19ff4",
   "metadata": {},
   "outputs": [],
   "source": []
  },
  {
   "cell_type": "markdown",
   "id": "35080f6f-6195-474c-bb78-5fa0bbd161c8",
   "metadata": {},
   "source": [
    "#### Here is an example of adding more that one type of flux to the ML \"features\""
   ]
  },
  {
   "cell_type": "code",
   "execution_count": null,
   "id": "a5c31ce6-6b91-445e-ba61-83f5f6adcb0d",
   "metadata": {},
   "outputs": [],
   "source": [
    "def get_features_with_two_fluxes(t):\n",
    "\n",
    "    feature_list = []\n",
    "    feature_list += [np.nan_to_num(t[f'{band}_cModelMag'], nan=30) for band in 'ugrizy']\n",
    "    feature_list += [np.nan_to_num(t[f'{band}_psfMag'], nan=30) for band in 'ugrizy']\n",
    "    \n",
    "    return np.vstack(feature_list).T"
   ]
  },
  {
   "cell_type": "code",
   "execution_count": null,
   "id": "fe690dc8-2605-4027-b459-f181e55688a3",
   "metadata": {},
   "outputs": [],
   "source": []
  }
 ],
 "metadata": {
  "kernelspec": {
   "display_name": "Python 3 (ipykernel)",
   "language": "python",
   "name": "python3"
  },
  "language_info": {
   "codemirror_mode": {
    "name": "ipython",
    "version": 3
   },
   "file_extension": ".py",
   "mimetype": "text/x-python",
   "name": "python",
   "nbconvert_exporter": "python",
   "pygments_lexer": "ipython3",
   "version": "3.12.9"
  }
 },
 "nbformat": 4,
 "nbformat_minor": 5
}
