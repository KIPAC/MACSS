{
 "cells": [
  {
   "cell_type": "markdown",
   "id": "b77711aa-f8ee-4d67-ac30-e271fc63ff10",
   "metadata": {},
   "source": [
    "### Part 4: Investigating ways to improve your regression model\n",
    "\n",
    "Goals: investigate if you can improve your regression model using additional fluxes or morphology information \n",
    "\n",
    "Specifics: The data that I provided contain some additional information that might be useful in redshift estimation, such as the sizes of the galaxies, and the different flux measurements are sensitive to light from different parts of the galaxies.\n",
    "\n",
    "You will need to:\n",
    "\n",
    "1. look at correlations between various flux measurements and see if you can find additional information that might be useful,\n",
    "2. try to add this information to a redshift estimation algorithm\n",
    "3. look at correlations with additional morphology information such as the sizes of galaxies, and see if you can find additional information that might be useful,\n",
    "4. try to add this morphology information to a redshift estimation algorithm.\n",
    "\n",
    "\n",
    "\n",
    "If you want to see what things should look like, you can have a look:\n",
    "\n",
    "1. in the notebook [07_GalaxySize.ipynb](https://github.com/KIPAC/MACSS/blob/main/nb/07_GalaxySize.ipynb) to see examples of computing magnitudes and colors.\n",
    "\n",
    "2. in the notebook [08_Morphology.ipynb](https://github.com/KIPAC/MACSS/blob/main/nb/08_Morphology.ipynb) to see some studies of how the different flux measurement are affected by the Galaxy size, and how that correlates with redshift.\n",
    "\n",
    "3. in the notebook [09_CosmoSize.ipynb](https://github.com/KIPAC/MACSS/blob/main/nb/09_CosmoSize.ipynb) to see how a Milkyway like Galaxy might appear at different redshifts.\n",
    "\n",
    "4. in the notebook [10_SklearnMorphology.ipynb](https://github.com/KIPAC/MACSS/blob/main/nb/10_SklearnMorphology.ipynb) to see an example of adding some morphology information to a redshift estimation algorithm.\n"
   ]
  },
  {
   "cell_type": "code",
   "execution_count": null,
   "id": "3d6c28df-86d5-4b81-bfd0-2a666a9a8ed7",
   "metadata": {},
   "outputs": [],
   "source": []
  }
 ],
 "metadata": {
  "kernelspec": {
   "display_name": "Python 3 (ipykernel)",
   "language": "python",
   "name": "python3"
  },
  "language_info": {
   "codemirror_mode": {
    "name": "ipython",
    "version": 3
   },
   "file_extension": ".py",
   "mimetype": "text/x-python",
   "name": "python",
   "nbconvert_exporter": "python",
   "pygments_lexer": "ipython3",
   "version": "3.12.11"
  }
 },
 "nbformat": 4,
 "nbformat_minor": 5
}
