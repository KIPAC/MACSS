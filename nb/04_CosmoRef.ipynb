{
 "cells": [
  {
   "cell_type": "markdown",
   "id": "6b615ed7-dd24-4c78-ae46-ae5b560a1d6a",
   "metadata": {},
   "source": [
    "## Notebook to explore effects of cosmological distances\n",
    "\n",
    "This will show how the sizes and brightness of galaxies evolve with redshift."
   ]
  },
  {
   "cell_type": "markdown",
   "id": "251c7ddc-85e6-4dc7-ae0a-5cd7daa35a25",
   "metadata": {},
   "source": [
    "#### Standard imports"
   ]
  },
  {
   "cell_type": "code",
   "execution_count": null,
   "id": "85655f6b-7b87-4e13-b494-b41e8c006dd8",
   "metadata": {},
   "outputs": [],
   "source": [
    "import os\n",
    "import pyccl as ccl\n",
    "import numpy as np\n",
    "import matplotlib.pyplot as plt\n",
    "import tables_io"
   ]
  },
  {
   "cell_type": "markdown",
   "id": "eec7f43a-e19a-475e-9056-0e9bee2df2be",
   "metadata": {},
   "source": [
    "#### Change this to match the correct location"
   ]
  },
  {
   "cell_type": "code",
   "execution_count": null,
   "id": "61fb6491-7368-4b15-9008-09ff0daa0749",
   "metadata": {},
   "outputs": [],
   "source": [
    "HOME = os.environ['HOME']\n",
    "pz_dir = f'{HOME}/macss'"
   ]
  },
  {
   "cell_type": "markdown",
   "id": "27aaf904-5e88-41c2-a5a2-dcb40794f1b4",
   "metadata": {},
   "source": [
    "#### Now get the data"
   ]
  },
  {
   "cell_type": "code",
   "execution_count": null,
   "id": "818268a5-4c45-4cb3-aac1-597b43816dc8",
   "metadata": {},
   "outputs": [],
   "source": [
    "t = tables_io.read(f'{pz_dir}/data/desi_dp1_matches.fits')"
   ]
  },
  {
   "cell_type": "markdown",
   "id": "8091104a-a434-4ea0-81c1-096e3da5c751",
   "metadata": {},
   "source": [
    "#### Here we use the python cosmology library, and put in a pretty standard cosmology"
   ]
  },
  {
   "cell_type": "code",
   "execution_count": null,
   "id": "87d0b62d-4e30-4afa-9df7-ea39ea05d32d",
   "metadata": {},
   "outputs": [],
   "source": [
    "cosmo = ccl.Cosmology(Omega_c=0.25, Omega_b=0.05,\n",
    "                          h=0.7, n_s=0.95, sigma8=0.8,\n",
    "                          transfer_function='bbks')"
   ]
  },
  {
   "cell_type": "markdown",
   "id": "8548698e-0c35-448a-aab8-782dbb983d3e",
   "metadata": {},
   "source": [
    "#### Here we make a grid in redshift, and convert it to the scale factor $a$ which is used by ccl"
   ]
  },
  {
   "cell_type": "code",
   "execution_count": null,
   "id": "9119e0f2-97f9-409a-891e-e3ae81960cb1",
   "metadata": {},
   "outputs": [],
   "source": [
    "z_vals = np.linspace(0, 6, 501)\n",
    "a_vals = 1/(1+z_vals)"
   ]
  },
  {
   "cell_type": "markdown",
   "id": "c6c78a2b-deed-4ce2-9ee6-d5470cbb96ff",
   "metadata": {},
   "source": [
    "#### In the next cells, we compute how the angular diameter scale (i.e., kpc / \") varies with redshift\n",
    "\n",
    "We also show how the apprent size of a Milky-way like galaxy (with a half-light radius of about 5kpc) would vary with redshift"
   ]
  },
  {
   "cell_type": "code",
   "execution_count": null,
   "id": "c3316437-736d-4ec7-8455-3a97ef436af0",
   "metadata": {},
   "outputs": [],
   "source": [
    "asec_to_rad = (360/(2*np.pi))*60*60"
   ]
  },
  {
   "cell_type": "code",
   "execution_count": null,
   "id": "0ab9aa82-f91a-40b3-8998-47993fc15b1e",
   "metadata": {},
   "outputs": [],
   "source": [
    "d_a_kpc = cosmo.angular_diameter_distance(a_vals)*1000"
   ]
  },
  {
   "cell_type": "code",
   "execution_count": null,
   "id": "99948a94-4b8a-4e2d-aa2f-07013f9faa1f",
   "metadata": {},
   "outputs": [],
   "source": [
    "a_scale = d_a_kpc / asec_to_rad"
   ]
  },
  {
   "cell_type": "code",
   "execution_count": null,
   "id": "0d0214ca-5b5b-4e99-aeba-74f952756eeb",
   "metadata": {},
   "outputs": [],
   "source": [
    "_ = plt.plot(z_vals, a_scale)\n",
    "_ = plt.xlabel('z')\n",
    "_ = plt.ylabel('Angular scale [kpc / \"]')"
   ]
  },
  {
   "cell_type": "code",
   "execution_count": null,
   "id": "f92ec6de-5bea-4ef4-8547-0bda2f003849",
   "metadata": {},
   "outputs": [],
   "source": [
    "_ = plt.plot(z_vals[1:], 5/a_scale[1:])\n",
    "_ = plt.yscale('log')\n",
    "_ = plt.xlabel('z')\n",
    "_ = plt.ylim(0.1, 10)\n",
    "_ = plt.ylabel('Angular size of 5 kpc Object [\"]')\n",
    "_ = plt.axhline(0.6, color='gray', ls=\"--\", label=\"PSF\")\n",
    "_ = plt.legend()"
   ]
  },
  {
   "cell_type": "markdown",
   "id": "358645e5-d42d-4c72-b36b-ded5d41be8d6",
   "metadata": {},
   "source": [
    "#### In the next cell, we show how the apparent magntidue of a Milky-way like galaxy evolves with redshift"
   ]
  },
  {
   "cell_type": "code",
   "execution_count": null,
   "id": "88116d69-f130-4202-b397-05849d837d44",
   "metadata": {},
   "outputs": [],
   "source": [
    "_ = plt.plot(z_vals[1:], cosmo.distance_modulus(a_vals[1:])-20, label=\"MW Luminosity (-20)\")\n",
    "_ = plt.plot(z_vals[1:], cosmo.distance_modulus(a_vals[1:])-22.5, label=\"10 * MW Luminosity (-22.5)\")             \n",
    "_ = plt.xlabel('z')\n",
    "_ = plt.ylabel('Magnitude')\n",
    "_ = plt.legend()\n",
    "_ = plt.plot([0., 6.], [25.5, 25.5])\n",
    "_ = plt.ylim(15, 30)"
   ]
  },
  {
   "cell_type": "markdown",
   "id": "55b84425-c750-4143-aa1e-3ad3f93d352f",
   "metadata": {},
   "source": [
    "### In the next cell, we overlay the objects with DESI Spectra"
   ]
  },
  {
   "cell_type": "code",
   "execution_count": null,
   "id": "e2bd3349-a744-497f-a0fc-4c6647dfd2aa",
   "metadata": {},
   "outputs": [],
   "source": [
    "_ = plt.hist2d(t['zred_DESI'], t['i_psfMag'],  bins=(np.linspace(0, 4, 101), np.linspace(16, 28, 101)), cmap='gray', norm='log')\n",
    "_ = plt.plot(z_vals[1:], cosmo.distance_modulus(a_vals[1:])-20, label=\"MW Luminosity (-20)\")\n",
    "_ = plt.plot(z_vals[1:], cosmo.distance_modulus(a_vals[1:])-22.5, label=\"10 * MW Luminosity (-22.5)\")             \n",
    "_ = plt.xlabel('z')\n",
    "_ = plt.ylabel('Magnitude')\n",
    "_ = plt.legend()\n"
   ]
  },
  {
   "cell_type": "markdown",
   "id": "e26fc751-5b48-496c-aa5a-09484cf0b258",
   "metadata": {},
   "source": [
    "#### Here we some now the photometric uncertainty scales with magnitdue\n",
    "\n",
    "A useful thing to remember is that 0.01 mag is very close to a 1% change in flux.\n",
    "\n",
    "Note that this curve depends on the depth of the observations, as we go deeper, the curve moves to the right.\n",
    "\n",
    "This curve is for the DP1 SV-38 field, which is not nearly as deep as the eventual LSST survey."
   ]
  },
  {
   "cell_type": "code",
   "execution_count": null,
   "id": "22e795b1-e00b-4cef-bb67-642507145770",
   "metadata": {},
   "outputs": [],
   "source": [
    "_ = plt.hist2d(t['i_psfMag'], t['i_psfMagErr'], bins=(np.linspace(16, 24, 101), np.linspace(0, 0.2, 101)), cmap='gray', norm='log')\n",
    "_ = plt.xlabel(\"i [mag]\")\n",
    "_ = plt.ylabel(r\"$\\sigma_{i}$ [mag]\")"
   ]
  },
  {
   "cell_type": "markdown",
   "id": "53ff9e6b-eec1-4dac-9f9a-63d3fd4b4ee9",
   "metadata": {},
   "source": [
    "#### Here we give and example of the color v. redshift data"
   ]
  },
  {
   "cell_type": "code",
   "execution_count": null,
   "id": "f0b3ae0e-13ab-4ea7-b395-d6f2efaf202b",
   "metadata": {},
   "outputs": [],
   "source": [
    "_ = plt.hist2d(t['zred_DESI'], t['r_psfMag']-t['i_psfMag'], bins=(np.linspace(0, 1.6, 101), np.linspace(-0.5, 2, 101)), cmap='gray', norm='log')\n",
    "_ = plt.xlabel(\"redshift\")\n",
    "_ = plt.ylabel(\"r-i [mag]\")"
   ]
  },
  {
   "cell_type": "code",
   "execution_count": null,
   "id": "d065cd6c-06c4-4bdd-96d8-84c8abf6aa81",
   "metadata": {},
   "outputs": [],
   "source": []
  }
 ],
 "metadata": {
  "kernelspec": {
   "display_name": "Python 3 (ipykernel)",
   "language": "python",
   "name": "python3"
  },
  "language_info": {
   "codemirror_mode": {
    "name": "ipython",
    "version": 3
   },
   "file_extension": ".py",
   "mimetype": "text/x-python",
   "name": "python",
   "nbconvert_exporter": "python",
   "pygments_lexer": "ipython3",
   "version": "3.12.9"
  }
 },
 "nbformat": 4,
 "nbformat_minor": 5
}
