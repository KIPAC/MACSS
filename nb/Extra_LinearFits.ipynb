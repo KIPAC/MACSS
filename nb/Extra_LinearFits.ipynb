{
 "cells": [
  {
   "cell_type": "markdown",
   "id": "5b4fd91b-dacb-4b31-af89-9109c015f6dc",
   "metadata": {},
   "source": [
    "### Play around with fitting polynomials to photometry "
   ]
  },
  {
   "cell_type": "markdown",
   "id": "46ff36aa-bc13-4e3d-bb85-a38b703d405a",
   "metadata": {},
   "source": [
    "Import stuff"
   ]
  },
  {
   "cell_type": "code",
   "execution_count": null,
   "id": "04077d1a-4e55-4721-ad51-8c640b533864",
   "metadata": {},
   "outputs": [],
   "source": [
    "import os\n",
    "import tables_io\n",
    "import numpy as np\n",
    "import matplotlib.pyplot as plt\n",
    "from matplotlib import cm\n",
    "\n",
    "from macss import plotting_functions\n",
    "from macss import utility_functions\n"
   ]
  },
  {
   "cell_type": "markdown",
   "id": "9191b6ce-d41f-4d51-a619-e8a6378df32d",
   "metadata": {},
   "source": [
    "#### Change this to be the correct locations"
   ]
  },
  {
   "cell_type": "code",
   "execution_count": null,
   "id": "d84f6bba-c273-4cc6-97cd-46e30344a610",
   "metadata": {},
   "outputs": [],
   "source": [
    "HOME = os.environ['HOME']\n",
    "pz_dir = f'{HOME}/macss'"
   ]
  },
  {
   "cell_type": "markdown",
   "id": "9b966cb8-3dc2-49ac-9dec-f99b365caf6a",
   "metadata": {},
   "source": [
    "Get the data, and split it"
   ]
  },
  {
   "cell_type": "code",
   "execution_count": null,
   "id": "e096b009-81e6-48ae-b95a-66c6e1e28033",
   "metadata": {},
   "outputs": [],
   "source": [
    "d = tables_io.read(f\"{pz_dir}/data/roman_rubin_9925.hdf5\")\n",
    "train = tables_io.sliceObj(d, slice(0, -1, 5))\n",
    "test = tables_io.sliceObj(d, slice(1, -1, 5))"
   ]
  },
  {
   "cell_type": "markdown",
   "id": "8673e90b-44fc-4f9a-963f-60a8632975dd",
   "metadata": {},
   "source": [
    "#### Note that this simulated catalog goes far deeper than we can observe"
   ]
  },
  {
   "cell_type": "code",
   "execution_count": null,
   "id": "ddf99b79-e366-4c86-9075-7b7ad3fca667",
   "metadata": {},
   "outputs": [],
   "source": [
    "np.nanmax(d['LSST_obs_g'])"
   ]
  },
  {
   "cell_type": "markdown",
   "id": "0b07f9bf-4bb1-4b46-a3e5-6bed25a9e8cc",
   "metadata": {},
   "source": [
    "Get the colors & mags"
   ]
  },
  {
   "cell_type": "code",
   "execution_count": null,
   "id": "bba85688-b121-4e5f-8dd1-279f9cef3c57",
   "metadata": {},
   "outputs": [],
   "source": [
    "train_targets, train_features = utility_functions.prepare_data_total_mag_and_colors(train, 'LSST_obs_{band}', 'ugrizy')\n",
    "test_targets, test_features = utility_functions.prepare_data_total_mag_and_colors(test, 'LSST_obs_{band}', 'ugrizy')\n",
    "\n",
    "train_mags = utility_functions.get_band_values(train, 'LSST_obs_{band}', 'ugrizy')\n",
    "train_mag_errs = utility_functions.get_band_values(train, 'LSST_obs_{band}_err', 'ugrizy')\n"
   ]
  },
  {
   "cell_type": "markdown",
   "id": "fc17df59-018d-4e6a-bf93-357cbf09a502",
   "metadata": {},
   "source": [
    "Pick some medians for the filters, note: these are just estimates"
   ]
  },
  {
   "cell_type": "code",
   "execution_count": null,
   "id": "5d908427-8d48-4921-9d05-30a22cbaacbc",
   "metadata": {},
   "outputs": [],
   "source": [
    "filter_medians = np.array([350., 470., 620., 750., 870., 950.])\n",
    "x_piv = 0.5*(filter_medians[0] + filter_medians[-1])"
   ]
  },
  {
   "cell_type": "markdown",
   "id": "61cff3a7-3c7c-41e1-96b3-b5bfd2adeb5f",
   "metadata": {},
   "source": [
    "Plot lots of spectra, color coded by redshift"
   ]
  },
  {
   "cell_type": "code",
   "execution_count": null,
   "id": "9ba76f93-cb29-4ae8-975e-1742d799e096",
   "metadata": {},
   "outputs": [],
   "source": [
    "_ = plotting_functions.plot_mag_spectra(filter_medians, train_mags[::100,:], train_mag_errs[::100,:], train_targets[::100])"
   ]
  },
  {
   "cell_type": "markdown",
   "id": "925a6f2c-1ad3-4acd-ae39-ca431f00c99f",
   "metadata": {},
   "source": [
    "Make a single plot as an example"
   ]
  },
  {
   "cell_type": "code",
   "execution_count": null,
   "id": "fa9c854f-c1a8-4e56-877f-3ffbccf1476c",
   "metadata": {},
   "outputs": [],
   "source": [
    "from numpy.polynomial import Polynomial\n",
    "p = Polynomial.fit(filter_medians-x_piv, train_mags[0], deg=3)"
   ]
  },
  {
   "cell_type": "code",
   "execution_count": null,
   "id": "8454ff9a-7395-48ff-a100-41348db0660c",
   "metadata": {},
   "outputs": [],
   "source": [
    "resid = train_mags[0] - p(filter_medians-x_piv)"
   ]
  },
  {
   "cell_type": "code",
   "execution_count": null,
   "id": "e9fc08f1-94ba-43aa-9b37-2f97fd479de6",
   "metadata": {},
   "outputs": [],
   "source": [
    "resid"
   ]
  },
  {
   "cell_type": "code",
   "execution_count": null,
   "id": "b4a85e23-0a1c-454b-915b-46276aa5da2c",
   "metadata": {},
   "outputs": [],
   "source": [
    "grid = np.linspace(filter_medians[0], filter_medians[-1], 61) \n",
    "plt.errorbar(filter_medians, train_mags[0], train_mag_errs[0])\n",
    "plt.plot(grid, p(grid-x_piv))"
   ]
  },
  {
   "cell_type": "code",
   "execution_count": null,
   "id": "584f6b52-4fd8-4b27-988a-4c0ccd5c1be7",
   "metadata": {},
   "outputs": [],
   "source": [
    "p.coef"
   ]
  },
  {
   "cell_type": "code",
   "execution_count": null,
   "id": "d52e4d9c-1ee5-4e04-8ff0-af1a3075c3a9",
   "metadata": {},
   "outputs": [],
   "source": []
  },
  {
   "cell_type": "markdown",
   "id": "dd2dad0b-a743-4b36-808f-cc3e33e1d8e5",
   "metadata": {},
   "source": [
    "#### The next cells are just playing around with the data, looking for something interesting"
   ]
  },
  {
   "cell_type": "markdown",
   "id": "639553e4-f4e1-4cce-8679-68a9ca35c221",
   "metadata": {},
   "source": [
    "Compute how much each color exceeds expectations"
   ]
  },
  {
   "cell_type": "code",
   "execution_count": null,
   "id": "5609a4fa-e417-411a-b1e7-d2aafbb81893",
   "metadata": {},
   "outputs": [],
   "source": [
    "color_excess = utility_functions.color_excess(train_mags)"
   ]
  },
  {
   "cell_type": "markdown",
   "id": "a7a7d3ff-afa7-4f3e-8ce3-7b3ee627d5b0",
   "metadata": {},
   "source": [
    "Do linear fits and return residuals"
   ]
  },
  {
   "cell_type": "code",
   "execution_count": null,
   "id": "ed81ee3b-507d-47b4-baa8-1ce3c87cbd63",
   "metadata": {},
   "outputs": [],
   "source": [
    "_lin_resids = utility_functions.linear_fit_residuals(filter_medians, train_mags, x_piv)"
   ]
  },
  {
   "cell_type": "markdown",
   "id": "7516770b-0dcd-41ee-bb84-f9f7160354d6",
   "metadata": {},
   "source": [
    "Plot residuals as a function of redshift"
   ]
  },
  {
   "cell_type": "code",
   "execution_count": null,
   "id": "c525d405-09a5-45fc-9872-24c5d6e6f33d",
   "metadata": {},
   "outputs": [],
   "source": [
    "_ = plt.hist2d(train_targets, np.nan_to_num(_lin_resids[:,1], 0.), bins=(100, 100), norm='log')"
   ]
  },
  {
   "cell_type": "code",
   "execution_count": null,
   "id": "ffd83353-25f7-454a-80e7-a3bad706a112",
   "metadata": {},
   "outputs": [],
   "source": [
    "_ = plt.hist2d(train_targets, np.nan_to_num(_lin_resids[:,4], 0.), bins=(100, 100), norm='log')"
   ]
  },
  {
   "cell_type": "markdown",
   "id": "6a6d255a-20a8-4442-b538-2271fdb1e069",
   "metadata": {},
   "source": [
    "Resid v resid plot"
   ]
  },
  {
   "cell_type": "code",
   "execution_count": null,
   "id": "5fc65b47-98e9-446c-9410-c1b832db5abc",
   "metadata": {},
   "outputs": [],
   "source": [
    "_ = plt.scatter(_lin_resids[:,3], _lin_resids[:,5], color=cm.rainbow(train_targets/3.), marker='.', s=1)"
   ]
  },
  {
   "cell_type": "code",
   "execution_count": null,
   "id": "b32d15b3-bf89-4135-a2b0-317a8b8ae20c",
   "metadata": {},
   "outputs": [],
   "source": []
  },
  {
   "cell_type": "code",
   "execution_count": null,
   "id": "5584cf9c-0771-41fb-a56d-56827672cb77",
   "metadata": {},
   "outputs": [],
   "source": []
  },
  {
   "cell_type": "code",
   "execution_count": null,
   "id": "531d0ac3-6dfa-46bd-9ec5-434c679cc808",
   "metadata": {},
   "outputs": [],
   "source": []
  }
 ],
 "metadata": {
  "kernelspec": {
   "display_name": "Python 3 (ipykernel)",
   "language": "python",
   "name": "python3"
  },
  "language_info": {
   "codemirror_mode": {
    "name": "ipython",
    "version": 3
   },
   "file_extension": ".py",
   "mimetype": "text/x-python",
   "name": "python",
   "nbconvert_exporter": "python",
   "pygments_lexer": "ipython3",
   "version": "3.12.9"
  }
 },
 "nbformat": 4,
 "nbformat_minor": 5
}
