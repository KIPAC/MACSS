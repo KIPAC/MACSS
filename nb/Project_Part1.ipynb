{
 "cells": [
  {
   "cell_type": "code",
   "execution_count": null,
   "id": "e8ff0278-52ac-4947-9a9d-c153e193579c",
   "metadata": {},
   "outputs": [],
   "source": [
    "import os\n",
    "import tables_io\n",
    "import numpy as np\n",
    "import matplotlib.pyplot as plt"
   ]
  },
  {
   "cell_type": "markdown",
   "id": "90b5eb32-8691-4d8d-a8ef-dcd89e7b2637",
   "metadata": {},
   "source": [
    "#### Change this to match the correct location"
   ]
  },
  {
   "cell_type": "code",
   "execution_count": null,
   "id": "7a33a026-e713-4d19-ac9c-4ff3e5cc40d2",
   "metadata": {},
   "outputs": [],
   "source": [
    "HOME = os.environ['HOME']\n",
    "pz_dir = f'{HOME}/macss'"
   ]
  },
  {
   "cell_type": "markdown",
   "id": "3fff27b5-d5d9-4d4a-a9da-a1ccee51e600",
   "metadata": {},
   "source": [
    "#### Read the DP1 Object data \n",
    "\n",
    "This reads all of the data for one \"Tract\", which is about a 1 degree x 1 degree area on the sky"
   ]
  },
  {
   "cell_type": "code",
   "execution_count": null,
   "id": "4fdd6f85-2ce5-4c15-830e-e2762d2bc595",
   "metadata": {},
   "outputs": [],
   "source": [
    "t = tables_io.read(f'{pz_dir}/data/object.hdf5')"
   ]
  },
  {
   "cell_type": "markdown",
   "id": "df107a9e-cb9b-4ba0-9b82-907bfe2f0400",
   "metadata": {},
   "source": [
    "#### This has read the data as a dictionary of numpy arrays"
   ]
  },
  {
   "cell_type": "code",
   "execution_count": null,
   "id": "5071f474-f040-4b91-8509-ba6facab1341",
   "metadata": {},
   "outputs": [],
   "source": [
    "type(t)"
   ]
  },
  {
   "cell_type": "markdown",
   "id": "fe743f3b-334f-40e6-8109-2eadf8f1336d",
   "metadata": {},
   "source": [
    "#### This prints out all the names of the arrays"
   ]
  },
  {
   "cell_type": "code",
   "execution_count": null,
   "id": "dc35a34f-4f29-4cea-84de-1ad33280025a",
   "metadata": {},
   "outputs": [],
   "source": [
    "print(t.keys())"
   ]
  },
  {
   "cell_type": "markdown",
   "id": "f9b381e1-0ff9-421d-9dfd-665968eaae0c",
   "metadata": {},
   "source": [
    "#### We can get any of the columns by name"
   ]
  },
  {
   "cell_type": "code",
   "execution_count": null,
   "id": "0b5ac6a8-5359-45de-9c09-3eecc7f885a8",
   "metadata": {},
   "outputs": [],
   "source": [
    "t['g_psfFlux']"
   ]
  },
  {
   "cell_type": "markdown",
   "id": "1cdceea6-9eb6-4d57-a000-0db4001ad3ca",
   "metadata": {},
   "source": [
    "#### Here you can write a function to convert a flux and a flux err to a magnitude and magntidue error"
   ]
  },
  {
   "cell_type": "code",
   "execution_count": null,
   "id": "8cfd036d-9f78-46eb-8a2c-e300bedb509a",
   "metadata": {},
   "outputs": [],
   "source": [
    "def fluxToMag(flux, fluxErr):\n",
    "    mag = np.nan\n",
    "    magError = np.nan\n",
    "    return mag, magErr"
   ]
  },
  {
   "cell_type": "markdown",
   "id": "7b2885c7-974c-4d48-8364-5119a486a883",
   "metadata": {},
   "source": [
    "### Next you will need to correct the magnitdues for galactic reddening\n",
    "\n",
    "For each band you will decrease by magnitude by the product of the two quantities:\n",
    "\n",
    "ebv: which depends on the amount of dust along a particular line of sight, and is provided in the input data\n",
    "band_e_env: a band specific reddenning parameter, which we provide in the the next cell\n"
   ]
  },
  {
   "cell_type": "code",
   "execution_count": null,
   "id": "881b16a7-631f-42b0-8bc8-bc48ea570cbb",
   "metadata": {},
   "outputs": [],
   "source": [
    "lsst_def_a_env = dict(\n",
    "    u_lsst=4.81,\n",
    "    g_lsst=3.64,\n",
    "    r_lsst=2.70,\n",
    "    i_lsst=2.06,\n",
    "    z_lsst=1.58,\n",
    "    y_lsst=1.31,\n",
    ")\n"
   ]
  },
  {
   "cell_type": "markdown",
   "id": "a587c5e7-7c96-4cb6-9a37-4f5d87a59292",
   "metadata": {},
   "source": [
    "#### Here you can write a functions to do the reddening"
   ]
  },
  {
   "cell_type": "code",
   "execution_count": null,
   "id": "8bf7fa72-65f3-4cc4-9139-e01be95475e2",
   "metadata": {},
   "outputs": [],
   "source": [
    "def dereddenMag(mag, ebv, band_a_env):\n",
    "    deredMag = np.nan\n",
    "    return deredMag"
   ]
  },
  {
   "cell_type": "markdown",
   "id": "97ae6f13-af9f-4d3a-821c-a557dca15429",
   "metadata": {},
   "source": [
    "### Next you can write a function to convert the magntidues to colors, \n",
    "\n",
    "colors are typically defined as the different in magntidues between adjacent bands, e.g., `r-i` or `g-r`...\n",
    "You will want to somehow collect all the magnitudes into a single python variable, and similarly return a single variable"
   ]
  },
  {
   "cell_type": "code",
   "execution_count": null,
   "id": "14e94405-8b52-4811-affd-3775b884c4cb",
   "metadata": {},
   "outputs": [],
   "source": [
    "def magsToColors(mags):\n",
    "    colors = np.nan\n",
    "    return colors"
   ]
  },
  {
   "cell_type": "code",
   "execution_count": null,
   "id": "ebd17840-c54f-45f9-80ee-1aea2ed671ac",
   "metadata": {},
   "outputs": [],
   "source": []
  }
 ],
 "metadata": {
  "kernelspec": {
   "display_name": "Python 3 (ipykernel)",
   "language": "python",
   "name": "python3"
  },
  "language_info": {
   "codemirror_mode": {
    "name": "ipython",
    "version": 3
   },
   "file_extension": ".py",
   "mimetype": "text/x-python",
   "name": "python",
   "nbconvert_exporter": "python",
   "pygments_lexer": "ipython3",
   "version": "3.12.11"
  }
 },
 "nbformat": 4,
 "nbformat_minor": 5
}
