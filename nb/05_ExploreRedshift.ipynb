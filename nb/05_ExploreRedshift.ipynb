{
 "cells": [
  {
   "cell_type": "markdown",
   "id": "19daf63a-7755-4182-8116-33d9e77a9a92",
   "metadata": {},
   "source": [
    "### This notebook shows an example of doing some data preperation and using sklearn to do a regression\n",
    "\n",
    "This needs a bit of work to match the column names to the input dataset"
   ]
  },
  {
   "cell_type": "markdown",
   "id": "17343a03-06c6-41ef-b347-597c46ceac72",
   "metadata": {},
   "source": [
    "The usual imports"
   ]
  },
  {
   "cell_type": "code",
   "execution_count": null,
   "id": "f15be03a-31f0-4906-9c57-8ebcd51a50df",
   "metadata": {},
   "outputs": [],
   "source": [
    "import os\n",
    "import tables_io\n",
    "import numpy as np\n",
    "import matplotlib.pyplot as plt\n",
    "from macss import plotting_functions\n",
    "from macss import utility_functions\n"
   ]
  },
  {
   "cell_type": "markdown",
   "id": "be5cf3b2-ab72-4ddb-8b62-95c9628c93f2",
   "metadata": {},
   "source": [
    "#### Change this to match the correct location"
   ]
  },
  {
   "cell_type": "code",
   "execution_count": null,
   "id": "670307ee-eb37-4477-b668-00a100f67145",
   "metadata": {},
   "outputs": [],
   "source": [
    "HOME = os.environ['HOME']\n",
    "pz_dir = f'{HOME}/macss'"
   ]
  },
  {
   "cell_type": "markdown",
   "id": "77d7c672-3d31-4b1a-9a6d-701b9fde27a7",
   "metadata": {},
   "source": [
    "Read a test file (in this case a Roman / Rubin open universe sim)"
   ]
  },
  {
   "cell_type": "code",
   "execution_count": null,
   "id": "af065f45-8444-46bd-abb9-8c543a06807d",
   "metadata": {},
   "outputs": [],
   "source": [
    "d = tables_io.read(f\"{pz_dir}/data/roman_rubin_9925.hdf5\")"
   ]
  },
  {
   "cell_type": "code",
   "execution_count": null,
   "id": "d7ac6952-8425-453e-8400-a87d33f1c641",
   "metadata": {},
   "outputs": [],
   "source": [
    "d.keys()"
   ]
  },
  {
   "cell_type": "markdown",
   "id": "ae3799da-424f-44a7-ae62-2182c4da79c5",
   "metadata": {},
   "source": [
    "Split it in half into training and test sets"
   ]
  },
  {
   "cell_type": "code",
   "execution_count": null,
   "id": "2cd82f27-37f0-46c0-bb60-e10cce201ab0",
   "metadata": {},
   "outputs": [],
   "source": [
    "train = tables_io.sliceObj(d, slice(0, -1, 2))\n",
    "test = tables_io.sliceObj(d, slice(1, -1, 2))"
   ]
  },
  {
   "cell_type": "markdown",
   "id": "448d7225-50d6-4f87-bbb8-b31dcf5b2688",
   "metadata": {},
   "source": [
    "Set up a regression algorithm"
   ]
  },
  {
   "cell_type": "code",
   "execution_count": null,
   "id": "e7b3fa62-20c4-4483-bb4a-cf46dd160d68",
   "metadata": {},
   "outputs": [],
   "source": [
    "from sklearn.ensemble import HistGradientBoostingRegressor"
   ]
  },
  {
   "cell_type": "code",
   "execution_count": null,
   "id": "19dfb9f5-8e75-49a5-8e99-1424a68d732e",
   "metadata": {},
   "outputs": [],
   "source": [
    "reg = HistGradientBoostingRegressor(max_iter=5000)"
   ]
  },
  {
   "cell_type": "markdown",
   "id": "09b141e9-8cad-4008-9ba3-6953aed952b2",
   "metadata": {},
   "source": [
    "Extract targets (specz redshfits) and features (color and magnitudes) from the data"
   ]
  },
  {
   "cell_type": "code",
   "execution_count": null,
   "id": "75e77d10-bc3d-4cf7-b704-60df2f0189b5",
   "metadata": {},
   "outputs": [],
   "source": [
    "train_targets, train_features = utility_functions.prepare_data_total_mag_and_colors(train, 'LSST_obs_{band}', 'ugrizy')\n",
    "test_targets, test_features = utility_functions.prepare_data_total_mag_and_colors(test, 'LSST_obs_{band}', 'ugrizy')"
   ]
  },
  {
   "cell_type": "markdown",
   "id": "4d2ef18e-b997-4342-b90e-b993c6157403",
   "metadata": {},
   "source": [
    "### Do some data preparation, scaling the inputs, so that they are mapped onto the same ranges"
   ]
  },
  {
   "cell_type": "code",
   "execution_count": null,
   "id": "efa9a3f1-c903-4a18-9c93-7934e110c9bd",
   "metadata": {},
   "outputs": [],
   "source": [
    "from sklearn import preprocessing"
   ]
  },
  {
   "cell_type": "code",
   "execution_count": null,
   "id": "5f648232-7775-45ca-97be-7269019fa207",
   "metadata": {},
   "outputs": [],
   "source": [
    "scaler = preprocessing.StandardScaler().fit(train_features)"
   ]
  },
  {
   "cell_type": "code",
   "execution_count": null,
   "id": "beec818a-0a3e-408d-94cc-d77a4017701d",
   "metadata": {},
   "outputs": [],
   "source": [
    "scaler.transform(train_features)"
   ]
  },
  {
   "cell_type": "code",
   "execution_count": null,
   "id": "7290dfb7-2295-4456-af42-49e948b68df1",
   "metadata": {},
   "outputs": [],
   "source": [
    "scaled = scaler.transform(train_features).clip(-5, 5)"
   ]
  },
  {
   "cell_type": "markdown",
   "id": "3e449a07-c245-4784-ba31-c9f37c4492d9",
   "metadata": {},
   "source": [
    "#### Ok, let's apply a Principle components decomposition to this data\n",
    "\n",
    "A PCA is basically a method to come up with a new set of basis functions of the data\n",
    "that try to map out the correlations between the different inputs.\n",
    "\n",
    "To see more about the PCA you can look here:\n",
    "https://scikit-learn.org/stable/modules/generated/sklearn.decomposition.PCA.html"
   ]
  },
  {
   "cell_type": "code",
   "execution_count": null,
   "id": "6cb6c1ff-4ace-48d0-b5af-3166005fbbf5",
   "metadata": {},
   "outputs": [],
   "source": [
    "from sklearn.decomposition import PCA"
   ]
  },
  {
   "cell_type": "code",
   "execution_count": null,
   "id": "2ff2fe5d-ffed-4c89-b621-7a7f67abe626",
   "metadata": {},
   "outputs": [],
   "source": [
    "pca = PCA(n_components=scaled.shape[-1], whiten=False)"
   ]
  },
  {
   "cell_type": "code",
   "execution_count": null,
   "id": "0f94f4e1-ffe9-4b55-82cd-fedf2f37c6cf",
   "metadata": {},
   "outputs": [],
   "source": [
    "pca.fit(scaled.clip(-5, 5))"
   ]
  },
  {
   "cell_type": "code",
   "execution_count": null,
   "id": "205d3f5a-b2e9-4739-8d98-a61137023b53",
   "metadata": {},
   "outputs": [],
   "source": [
    "pca.explained_variance_ratio_"
   ]
  },
  {
   "cell_type": "code",
   "execution_count": null,
   "id": "c1f9955c-ff73-40c8-9e5c-8bbf266791b0",
   "metadata": {},
   "outputs": [],
   "source": [
    "pca_out = pca.transform(scaled)"
   ]
  },
  {
   "cell_type": "markdown",
   "id": "b5404bfa-2a15-4950-bdca-0481bf3c1bd0",
   "metadata": {},
   "source": [
    "#### Ok, let's make some featue plots...\n",
    "\n",
    "We can look at the scaled inputs and compare them to the output of the PCA"
   ]
  },
  {
   "cell_type": "code",
   "execution_count": null,
   "id": "c56f3de0-79f9-4516-8851-37338c0c1ae8",
   "metadata": {},
   "outputs": [],
   "source": [
    "fig = plotting_functions.plot_feature_histograms(scaled)"
   ]
  },
  {
   "cell_type": "code",
   "execution_count": null,
   "id": "dc98aa00-b794-4a0b-b04f-c4c4c99ef2d2",
   "metadata": {},
   "outputs": [],
   "source": [
    "fig = plotting_functions.plot_feature_histograms(pca_out)"
   ]
  },
  {
   "cell_type": "code",
   "execution_count": null,
   "id": "c62d7c40-6937-4550-a52e-ef85b05608a8",
   "metadata": {},
   "outputs": [],
   "source": [
    "_ = plotting_functions.plot_pca_hist2d(train_features, pca_out)"
   ]
  },
  {
   "cell_type": "code",
   "execution_count": null,
   "id": "904c922b-9f0c-4aa5-b774-568bfd038226",
   "metadata": {},
   "outputs": [],
   "source": [
    "_ = plotting_functions.plot_feature_target_hist2d(train_features, train_targets)"
   ]
  },
  {
   "cell_type": "code",
   "execution_count": null,
   "id": "ebcf8232-ff2a-4db0-88cf-1e7081701b7f",
   "metadata": {},
   "outputs": [],
   "source": [
    "_ = plotting_functions.plot_feature_target_hist2d(pca_out, train_targets)"
   ]
  },
  {
   "cell_type": "markdown",
   "id": "6dfb7986-a2ef-4e07-bc4e-f114ce6bd086",
   "metadata": {},
   "source": [
    "Run an example regression"
   ]
  },
  {
   "cell_type": "code",
   "execution_count": null,
   "id": "473ea856-1825-41a6-8564-8b1b698b2cb5",
   "metadata": {},
   "outputs": [],
   "source": [
    "preds = utility_functions.run_regression(reg, train_features, train_targets, test_features)"
   ]
  },
  {
   "cell_type": "code",
   "execution_count": null,
   "id": "b39c8990-cd75-432d-9e6c-bc2159e1ace2",
   "metadata": {},
   "outputs": [],
   "source": [
    "_ = plotting_functions.plot_true_predict_fancy(test_targets, preds)"
   ]
  },
  {
   "cell_type": "code",
   "execution_count": null,
   "id": "eb0eaa98-fab3-4dd0-87d1-f52c24cbc0cb",
   "metadata": {},
   "outputs": [],
   "source": []
  }
 ],
 "metadata": {
  "kernelspec": {
   "display_name": "Python 3 (ipykernel)",
   "language": "python",
   "name": "python3"
  },
  "language_info": {
   "codemirror_mode": {
    "name": "ipython",
    "version": 3
   },
   "file_extension": ".py",
   "mimetype": "text/x-python",
   "name": "python",
   "nbconvert_exporter": "python",
   "pygments_lexer": "ipython3",
   "version": "3.12.9"
  }
 },
 "nbformat": 4,
 "nbformat_minor": 5
}
