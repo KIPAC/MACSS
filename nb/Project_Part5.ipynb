{
 "cells": [
  {
   "cell_type": "markdown",
   "id": "d9a54490-76f4-44e4-913d-4caa62f94336",
   "metadata": {},
   "source": [
    "### Part 5: Investigating how your regression model does with imperfect data\n",
    "\n",
    "Goals: characterize how sensitive the model is to imperfect input data \n",
    "\n",
    "Specifics:  The test and training data is somewhat idealized, in that\n",
    "we have selected galaxies that have well measured redshifts.  These\n",
    "galaxies tend to be a brighter, and spatially isolated from other\n",
    "galaxies.\n",
    "\n",
    "\n",
    "You will need to:\n",
    "\n",
    "1. artificially smear the photometric data to simulate photometric noise\n",
    "2. artificially smear the photometric data to light contamination\n",
    "   from nearby galaxies\n",
    "3. see how these smearing affect the photometric redshift measurements.\n",
    "\n",
    "\n",
    "\n",
    "If you want to see what things should look like, you can have a look:\n",
    "\n",
    "1. in the notebook [Extra_NoiseStudy.ipynb](https://github.com/KIPAC/MACSS/blob/main/nb/Extra_NoiseStudy.ipynb) to see examples adding random photometric noise and seeing how it affects the p(z) estimation.\n",
    "\n",
    "2. in the notebook [Extra_AdmixStudy.ipynb](https://github.com/KIPAC/MACSS/blob/main/nb/Extra_AdmixStudy.ipynb) to see examples adding contamination from other galaxies and seeing how it affects the p(z) estimation. \n",
    "\n"
   ]
  },
  {
   "cell_type": "code",
   "execution_count": null,
   "id": "5edfef79-0b35-485c-ac0e-b11ce8f1bcb0",
   "metadata": {},
   "outputs": [],
   "source": []
  }
 ],
 "metadata": {
  "kernelspec": {
   "display_name": "Python 3 (ipykernel)",
   "language": "python",
   "name": "python3"
  },
  "language_info": {
   "codemirror_mode": {
    "name": "ipython",
    "version": 3
   },
   "file_extension": ".py",
   "mimetype": "text/x-python",
   "name": "python",
   "nbconvert_exporter": "python",
   "pygments_lexer": "ipython3",
   "version": "3.12.11"
  }
 },
 "nbformat": 4,
 "nbformat_minor": 5
}
