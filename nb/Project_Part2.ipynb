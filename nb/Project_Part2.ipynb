{
 "cells": [
  {
   "cell_type": "code",
   "execution_count": null,
   "id": "60b70b9c-2386-4b73-9834-7480a58ebd56",
   "metadata": {},
   "outputs": [],
   "source": [
    "import os\n",
    "import tables_io\n",
    "import numpy as np\n",
    "import matplotlib.pyplot as plt"
   ]
  },
  {
   "cell_type": "markdown",
   "id": "ecccc80b-5613-44aa-aa14-e0607275f78c",
   "metadata": {},
   "source": [
    "#### Change this to match the correct location"
   ]
  },
  {
   "cell_type": "code",
   "execution_count": null,
   "id": "f8ba92be-f089-4293-bc99-5c91145e15ef",
   "metadata": {},
   "outputs": [],
   "source": [
    "HOME = os.environ['HOME']\n",
    "pz_dir = f'{HOME}/macss'"
   ]
  },
  {
   "cell_type": "code",
   "execution_count": null,
   "id": "57e0894d-ea83-4c82-8b01-ce33e0cc0c28",
   "metadata": {},
   "outputs": [],
   "source": [
    "seds = [    \n",
    "    'El_B2004a',\n",
    "    'Sbc_B2004a',\n",
    "    'Scd_B2004a',\n",
    "    'Im_B2004a',\n",
    "    'SB3_B2004a',\n",
    "    'SB2_B2004a',\n",
    "    'ssp_25Myr_z008',\n",
    "    'ssp_5Myr_z008',\n",
    "]\n",
    "\n",
    "input_file = f'{pz_dir}/data/dp1_matched_v4_train.hdf5'\n",
    "band_template = \"{band}_gaap1p0Mag\"\n",
    "bands = 'ugrizy'\n",
    "filters = ['comcam_u', 'comcam_g', 'comcam_r', 'comcam_i', 'comcam_z', 'comcam_y']\n",
    "labels = ['u-g', 'g-i', 'r-i', 'i-z', 'z-y']\n",
    "redshift_col = 'redshift'\n",
    "sample = 1\n",
    "    \n",
    "    \n",
    "mag_labels = [f'Mag {band}' for band in bands]"
   ]
  },
  {
   "cell_type": "code",
   "execution_count": null,
   "id": "6b3f5ba8-d83f-434a-8e10-c2f106e75e38",
   "metadata": {},
   "outputs": [],
   "source": [
    "seds = [    \n",
    "    'El_B2004a',\n",
    "    'Sbc_B2004a',\n",
    "    'Scd_B2004a',\n",
    "    'Im_B2004a',\n",
    "    'SB3_B2004a',\n",
    "    'SB2_B2004a',\n",
    "    'ssp_25Myr_z008',\n",
    "    'ssp_5Myr_z008',\n",
    "]\n",
    "\n",
    "input_file = f'{pz_dir}/data/dp1_matched_v4_train.hdf5'\n",
    "band_template = \"{band}_gaap1p0Mag\"\n",
    "bands = 'ugrizy'\n",
    "filters = ['comcam_u', 'comcam_g', 'comcam_r', 'comcam_i', 'comcam_z', 'comcam_y']\n",
    "labels = ['u-g', 'g-i', 'r-i', 'i-z', 'z-y']\n",
    "redshift_col = 'redshift'\n",
    "sample = 1\n",
    "    \n",
    "    \n",
    "mag_labels = [f'Mag {band}' for band in bands]"
   ]
  },
  {
   "cell_type": "markdown",
   "id": "091021f1-6db7-4604-891d-62867a61b33a",
   "metadata": {},
   "source": [
    "#### Read the Reference Object data\n",
    "\n",
    "This reads all of the cross-matched data for one \"Tract\", which is about a 1 degree x 1 degree area on the sky\n"
   ]
  },
  {
   "cell_type": "code",
   "execution_count": null,
   "id": "50623780-069f-486d-af6e-64b4942be255",
   "metadata": {},
   "outputs": [],
   "source": [
    "data = tables_io.read(input_file)"
   ]
  },
  {
   "cell_type": "code",
   "execution_count": null,
   "id": "02019f08-fd2b-447a-8fb6-8393fb8116f1",
   "metadata": {},
   "outputs": [],
   "source": [
    "data.keys()"
   ]
  },
  {
   "cell_type": "markdown",
   "id": "ca341655-6f4f-409a-ba2e-5bc09d275303",
   "metadata": {},
   "source": [
    "#### Note that this file includes the reference redshifts"
   ]
  },
  {
   "cell_type": "code",
   "execution_count": null,
   "id": "08548572-341b-47a9-a479-148e8ee0f019",
   "metadata": {},
   "outputs": [],
   "source": [
    "data['redshift']"
   ]
  },
  {
   "cell_type": "markdown",
   "id": "5f006c29-5a46-4cb4-ac28-046b3355456f",
   "metadata": {},
   "source": [
    "#### Make some plots of how things evolve with redshift"
   ]
  },
  {
   "cell_type": "code",
   "execution_count": null,
   "id": "b70c85ad-39f1-4eec-9567-880ab89f4356",
   "metadata": {},
   "outputs": [],
   "source": []
  }
 ],
 "metadata": {
  "kernelspec": {
   "display_name": "Python 3 (ipykernel)",
   "language": "python",
   "name": "python3"
  },
  "language_info": {
   "codemirror_mode": {
    "name": "ipython",
    "version": 3
   },
   "file_extension": ".py",
   "mimetype": "text/x-python",
   "name": "python",
   "nbconvert_exporter": "python",
   "pygments_lexer": "ipython3",
   "version": "3.12.11"
  }
 },
 "nbformat": 4,
 "nbformat_minor": 5
}
