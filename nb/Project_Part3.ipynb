{
 "cells": [
  {
   "cell_type": "code",
   "execution_count": null,
   "id": "71ec6864-5191-4e2e-afdf-2b69556f8929",
   "metadata": {},
   "outputs": [],
   "source": [
    "import os\n",
    "import tables_io\n",
    "import numpy as np\n",
    "import matplotlib.pyplot as plt\n",
    "from macss import utility_functions"
   ]
  },
  {
   "cell_type": "code",
   "execution_count": null,
   "id": "e5c877c3-c925-42b3-a93e-9c487458c014",
   "metadata": {},
   "outputs": [],
   "source": [
    "HOME = os.environ['HOME']\n",
    "pz_dir = f'{HOME}/macss'"
   ]
  },
  {
   "cell_type": "code",
   "execution_count": null,
   "id": "84115fd1-a7da-40a2-a10e-304ca6946b63",
   "metadata": {},
   "outputs": [],
   "source": [
    "train = tables_io.read(f\"{pz_dir}/data/dp1_matched_v4_train.hdf5\")\n",
    "test = tables_io.read(f\"{pz_dir}/data/dp1_matched_v4_test.hdf5\")"
   ]
  },
  {
   "cell_type": "code",
   "execution_count": null,
   "id": "b17c705b-354d-45cd-8804-5d36a97c89a1",
   "metadata": {},
   "outputs": [],
   "source": [
    "def extraFeaturesAndTargets(inputData):\n",
    "#    features = np.nan\n",
    "#    targets = np.nan\n",
    "    features, targets = utility_functions.prepare_data_total_mag_and_colors(train, '{band}_gaap1p0Mag', 'ugrizy')\n",
    "    return features, targets"
   ]
  },
  {
   "cell_type": "code",
   "execution_count": null,
   "id": "1a42378b-f9a1-46bb-87d6-a403afdf2247",
   "metadata": {},
   "outputs": [],
   "source": [
    "train_targets, train_features = extraFeaturesAndTargets(train)\n",
    "test_targets, test_features = extraFeaturesAndTargets(test)"
   ]
  },
  {
   "cell_type": "code",
   "execution_count": null,
   "id": "a9367c4e-138f-4cce-8278-da01abf034e8",
   "metadata": {},
   "outputs": [],
   "source": [
    "from sklearn.ensemble import (HistGradientBoostingRegressor, ExtraTreesRegressor, AdaBoostRegressor)\n",
    "from sklearn.gaussian_process import GaussianProcessRegressor\n",
    "from sklearn.isotonic import IsotonicRegression\n",
    "from sklearn.linear_model import HuberRegressor, LinearRegression, QuantileRegressor\n",
    "from sklearn.svm import NuSVR\n",
    "from sklearn.neighbors import KNeighborsRegressor, RadiusNeighborsRegressor"
   ]
  },
  {
   "cell_type": "code",
   "execution_count": null,
   "id": "565b90b2-37d9-45a2-8b87-9743c97a7701",
   "metadata": {},
   "outputs": [],
   "source": [
    "knr = KNeighborsRegressor()\n",
    "#hbr = HistGradientBoostingRegressor()\n",
    "#etr = ExtraTreesRegressor()\n",
    "#abr = AdaBoostRegressor()\n",
    "#gpr = GaussianProcessRegressor()\n",
    "#isr = IsotonicRegression()\n",
    "#hur = HuberRegressor()\n",
    "#lir = LinearRegression()\n",
    "#qur = QuantileRegressor()\n",
    "#nsr = NuSVR()\n",
    "knr = KNeighborsRegressor()\n",
    "#rnr = RadiusNeighborsRegressor()"
   ]
  },
  {
   "cell_type": "code",
   "execution_count": null,
   "id": "0285cded-cc94-4b53-88cd-d4b0dd65128f",
   "metadata": {},
   "outputs": [],
   "source": [
    "def run_regression(reg, train_features, train_targets, test_features):\n",
    "    reg.fit(train_features, train_targets)\n",
    "    return reg.predict(test_features)"
   ]
  },
  {
   "cell_type": "code",
   "execution_count": null,
   "id": "d3f5da2f-157b-444a-84f6-bf4c4f0eb75a",
   "metadata": {},
   "outputs": [],
   "source": [
    "preds = run_regression(knr, train_features, train_targets, test_features)"
   ]
  },
  {
   "cell_type": "code",
   "execution_count": null,
   "id": "e1541a2c-fb41-4702-88d1-bcc5aa25686a",
   "metadata": {},
   "outputs": [],
   "source": [
    "grid = np.linspace(0, 1.5, 151)\n",
    "_ = plt.hist2d(test_targets, preds, bins=[grid, grid], norm='log', cmap='gray')\n",
    "_ = plt.xlabel(r'$z_{\\rm ref}$')\n",
    "_ = plt.ylabel(r'$z_{\\rm est}$')\n",
    "_ = plt.colorbar()"
   ]
  },
  {
   "cell_type": "code",
   "execution_count": null,
   "id": "fff26295-f27f-4cf7-bd13-dad590db8df9",
   "metadata": {},
   "outputs": [],
   "source": []
  }
 ],
 "metadata": {
  "kernelspec": {
   "display_name": "Python 3 (ipykernel)",
   "language": "python",
   "name": "python3"
  },
  "language_info": {
   "codemirror_mode": {
    "name": "ipython",
    "version": 3
   },
   "file_extension": ".py",
   "mimetype": "text/x-python",
   "name": "python",
   "nbconvert_exporter": "python",
   "pygments_lexer": "ipython3",
   "version": "3.12.11"
  }
 },
 "nbformat": 4,
 "nbformat_minor": 5
}
