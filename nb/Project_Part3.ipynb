{
 "cells": [
  {
   "cell_type": "markdown",
   "id": "c07b24cb-2244-423b-9103-28c0638df9c1",
   "metadata": {},
   "source": [
    "### Part 3: Creating and testing photometric redshift estimator\n",
    "\n",
    "Goals: create a photometric redshift estimator using the scikit-learn tool-kit and test it out\n",
    "\n",
    "Specifics: I have provided you with some prepared photometric reference data, which includes cross-matched objects with known redshifts.   You will want to:\n",
    "\n",
    "1. prepare the data for consumption by the machine learning algorithms, \n",
    "2. use part of this data to train a regression model, \n",
    "3. apply that regression model to remainder of the data\n",
    "4. investigate how well the regression model performed\n",
    "\n",
    "\n",
    "If you want to see what things should look like, you can have a look:\n",
    "\n",
    "1. in the notebook [05_ExploreRedshift.ipynb](https://github.com/KIPAC/MACSS/blob/main/nb/05_ExploreRedshift.ipynb) to see an exploration of the features in the data that can be used to extract redshift information.\n",
    "\n",
    "2. in the notebook [06_SklearnRegression.ipynb](https://github.com/KIPAC/MACSS/blob/main/nb/06_SklearnRegression.ipynb) to see examples of running several different types of estimation algorithms.\n",
    "\n"
   ]
  },
  {
   "cell_type": "markdown",
   "id": "9c29a5a0-0028-4327-bc07-33db1a0dff0d",
   "metadata": {},
   "source": [
    "#### Standard imports"
   ]
  },
  {
   "cell_type": "code",
   "execution_count": null,
   "id": "71ec6864-5191-4e2e-afdf-2b69556f8929",
   "metadata": {},
   "outputs": [],
   "source": [
    "import os\n",
    "import tables_io\n",
    "import numpy as np\n",
    "import matplotlib.pyplot as plt"
   ]
  },
  {
   "cell_type": "markdown",
   "id": "96c8e290-fdd0-4ac7-83cd-13dee100cf6a",
   "metadata": {},
   "source": [
    "#### Change this to match the correct location"
   ]
  },
  {
   "cell_type": "code",
   "execution_count": null,
   "id": "e5c877c3-c925-42b3-a93e-9c487458c014",
   "metadata": {},
   "outputs": [],
   "source": [
    "HOME = os.environ['HOME']\n",
    "pz_dir = f'{HOME}/macss'"
   ]
  },
  {
   "cell_type": "markdown",
   "id": "671f959e-1dd1-418e-a5c5-d8496bc07113",
   "metadata": {},
   "source": [
    "#### here we are going to open two files, \"test\" and \"train\" datasets\n",
    "\n",
    "The idea here is that we took prepared data and split it into two parts, one for training the regression method and one for testing it"
   ]
  },
  {
   "cell_type": "code",
   "execution_count": null,
   "id": "84115fd1-a7da-40a2-a10e-304ca6946b63",
   "metadata": {},
   "outputs": [],
   "source": [
    "train = tables_io.read(f\"{pz_dir}/data/dp1_matched_v4_train.hdf5\")\n",
    "test = tables_io.read(f\"{pz_dir}/data/dp1_matched_v4_test.hdf5\")"
   ]
  },
  {
   "cell_type": "markdown",
   "id": "e2e8574f-aae1-4485-a080-7af22c0bba04",
   "metadata": {},
   "source": [
    "Here are a few empty cells to explore the test and train data"
   ]
  },
  {
   "cell_type": "code",
   "execution_count": null,
   "id": "20569f73-d640-4525-a1cc-c3aa7eb9f6de",
   "metadata": {},
   "outputs": [],
   "source": []
  },
  {
   "cell_type": "code",
   "execution_count": null,
   "id": "a900ea1a-be7e-41c1-a10e-84fa0fea61d7",
   "metadata": {},
   "outputs": [],
   "source": []
  },
  {
   "cell_type": "code",
   "execution_count": null,
   "id": "8a51f672-1c4e-43ae-b736-76e81ae1c2b6",
   "metadata": {},
   "outputs": [],
   "source": []
  },
  {
   "cell_type": "markdown",
   "id": "cd8fa3e4-d8b8-4f68-aee2-521239b0531b",
   "metadata": {},
   "source": [
    "#### Now you want to write a function to extract \"features\" and \"targets\" from the input data\n",
    "\n",
    "\"features\" are the features that the estimator will try to use to estimate the redshifts,\n",
    "\"targets\" are the values that the estimator should predict, i.e., the redshifts.\n",
    "\n",
    "\"features\" should be a 2D array\n",
    "\"targets\" should be a 1D array, of the same size"
   ]
  },
  {
   "cell_type": "code",
   "execution_count": null,
   "id": "b17c705b-354d-45cd-8804-5d36a97c89a1",
   "metadata": {},
   "outputs": [],
   "source": [
    "def extraFeaturesAndTargets(inputData):\n",
    "    features = np.nan\n",
    "    targets = np.nan\n",
    "    return features, targets"
   ]
  },
  {
   "cell_type": "code",
   "execution_count": null,
   "id": "1a42378b-f9a1-46bb-87d6-a403afdf2247",
   "metadata": {},
   "outputs": [],
   "source": [
    "train_targets, train_features = extraFeaturesAndTargets(train)\n",
    "test_targets, test_features = extraFeaturesAndTargets(test)"
   ]
  },
  {
   "cell_type": "markdown",
   "id": "d90cfd54-1403-419c-a178-e45b4b1a44ca",
   "metadata": {},
   "source": [
    "#### here we import all the different Estimation methods. \n",
    "\n",
    "A \"Regressor\" is a python object that implements a machine learning method to build a regression model that tries to predict a value from features the data."
   ]
  },
  {
   "cell_type": "code",
   "execution_count": null,
   "id": "a9367c4e-138f-4cce-8278-da01abf034e8",
   "metadata": {},
   "outputs": [],
   "source": [
    "from sklearn.ensemble import (HistGradientBoostingRegressor, ExtraTreesRegressor, AdaBoostRegressor)\n",
    "from sklearn.gaussian_process import GaussianProcessRegressor\n",
    "from sklearn.isotonic import IsotonicRegression\n",
    "from sklearn.linear_model import HuberRegressor, LinearRegression, QuantileRegressor\n",
    "from sklearn.svm import NuSVR\n",
    "from sklearn.neighbors import KNeighborsRegressor, RadiusNeighborsRegressor"
   ]
  },
  {
   "cell_type": "code",
   "execution_count": null,
   "id": "565b90b2-37d9-45a2-8b87-9743c97a7701",
   "metadata": {},
   "outputs": [],
   "source": [
    "knr = KNeighborsRegressor()\n",
    "#hbr = HistGradientBoostingRegressor()\n",
    "#etr = ExtraTreesRegressor()\n",
    "#abr = AdaBoostRegressor()\n",
    "#gpr = GaussianProcessRegressor()\n",
    "#isr = IsotonicRegression()\n",
    "#hur = HuberRegressor()\n",
    "#lir = LinearRegression()\n",
    "#qur = QuantileRegressor()\n",
    "#nsr = NuSVR()\n",
    "#rnr = RadiusNeighborsRegressor()"
   ]
  },
  {
   "cell_type": "code",
   "execution_count": null,
   "id": "0285cded-cc94-4b53-88cd-d4b0dd65128f",
   "metadata": {},
   "outputs": [],
   "source": [
    "def run_regression(reg, train_features, train_targets, test_features):\n",
    "    reg.fit(train_features, train_targets)\n",
    "    return reg.predict(test_features)"
   ]
  },
  {
   "cell_type": "code",
   "execution_count": null,
   "id": "d3f5da2f-157b-444a-84f6-bf4c4f0eb75a",
   "metadata": {},
   "outputs": [],
   "source": [
    "preds = run_regression(knr, train_features, train_targets, test_features)"
   ]
  },
  {
   "cell_type": "markdown",
   "id": "0e4287aa-3c30-4574-829d-0c8b1364dec0",
   "metadata": {},
   "source": [
    "#### Looking at how it did\n",
    "\n",
    "Here is a simple scatter plot comparing the reference redshifts in the test data to the estimates."
   ]
  },
  {
   "cell_type": "code",
   "execution_count": null,
   "id": "e1541a2c-fb41-4702-88d1-bcc5aa25686a",
   "metadata": {},
   "outputs": [],
   "source": [
    "grid = np.linspace(0, 1.5, 151)\n",
    "_ = plt.hist2d(test_targets, preds, bins=[grid, grid], norm='log', cmap='gray')\n",
    "_ = plt.xlabel(r'$z_{\\rm ref}$')\n",
    "_ = plt.ylabel(r'$z_{\\rm est}$')\n",
    "_ = plt.colorbar()"
   ]
  },
  {
   "cell_type": "markdown",
   "id": "71939d6b-dc05-423d-97ab-fe0b18d71d1a",
   "metadata": {},
   "source": [
    "#### Compute and add some quantitative measures of the performance to the figure.\n",
    "\n",
    "At this point you can make some quantitiative measures of the perfomance, for example how accurately the estimates match the refernces redshifts.  Come up with a few measures of the performance and add them to a better version of the figure."
   ]
  },
  {
   "cell_type": "code",
   "execution_count": null,
   "id": "ee6e3dff-efa3-47ae-9f74-69c3d3443abf",
   "metadata": {},
   "outputs": [],
   "source": []
  }
 ],
 "metadata": {
  "kernelspec": {
   "display_name": "Python 3 (ipykernel)",
   "language": "python",
   "name": "python3"
  },
  "language_info": {
   "codemirror_mode": {
    "name": "ipython",
    "version": 3
   },
   "file_extension": ".py",
   "mimetype": "text/x-python",
   "name": "python",
   "nbconvert_exporter": "python",
   "pygments_lexer": "ipython3",
   "version": "3.12.11"
  }
 },
 "nbformat": 4,
 "nbformat_minor": 5
}
