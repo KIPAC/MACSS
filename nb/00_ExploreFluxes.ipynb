{
 "cells": [
  {
   "cell_type": "markdown",
   "id": "ae734b2d-16d8-44fc-8e7e-bd60e689cadb",
   "metadata": {},
   "source": [
    "## This notebook explores colors using the different flux measurements\n",
    "\n",
    "In the Rubin catalogs, several flux measurements are reported for each object.   This notebook explores some of those, \n",
    "and the relationships between them.\n",
    "\n",
    "The types of fluxes we look at here are:\n",
    "\n",
    "psf:      Flux in a point-spread-function weighted aperture\n",
    "\n",
    "gaap1p0:  Flux in a 1.0 arcsec, point-spread-function weighted aperture\n",
    "\n",
    "gaap3p0:  Flux in a 3.0 arcsec, point-spread-function weighted aperture\n",
    "\n",
    "cModel:   Flux as computed in a for model fit\n",
    "\n",
    "sersic:   Flux as computed by a fit to a sersic profile\n",
    "\n",
    "\n",
    "We are going to apply a few quality cuts, convert the fluxes to magnitudes and then to colors\n"
   ]
  },
  {
   "cell_type": "code",
   "execution_count": null,
   "id": "f0cdfcd3-d9b7-43df-b22a-90172518ea22",
   "metadata": {},
   "outputs": [],
   "source": [
    "import os\n",
    "import tables_io\n",
    "import numpy as np\n",
    "import matplotlib.pyplot as plt\n",
    "from macss import utility_functions\n",
    "from macss import plotting_functions"
   ]
  },
  {
   "cell_type": "markdown",
   "id": "4579cc2d-22b8-4364-971e-943258be8075",
   "metadata": {},
   "source": [
    "#### Change this to match the correct location"
   ]
  },
  {
   "cell_type": "code",
   "execution_count": null,
   "id": "03b2fa19-1567-4bf0-b14a-d72291d0f3e4",
   "metadata": {},
   "outputs": [],
   "source": [
    "HOME = os.environ['HOME']\n",
    "pz_dir = f'{HOME}/macss'"
   ]
  },
  {
   "cell_type": "markdown",
   "id": "2bd72172-d0f0-47f3-8276-d6c31d72faa8",
   "metadata": {},
   "source": [
    "#### Read the DP1 Object data \n",
    "\n",
    "This reads all of the data for one \"Tract\", which is about a 1 degree x 1 degree area on the sky"
   ]
  },
  {
   "cell_type": "code",
   "execution_count": null,
   "id": "5f5a3548-5da0-4d83-b596-888b249e5e47",
   "metadata": {},
   "outputs": [],
   "source": [
    "t = tables_io.read(f'{pz_dir}/data/object.hdf5')"
   ]
  },
  {
   "cell_type": "markdown",
   "id": "76c50fa8-d926-492a-93eb-5d07adb83c24",
   "metadata": {},
   "source": [
    "You might want to explore a bit to see that is in the data that we just read"
   ]
  },
  {
   "cell_type": "code",
   "execution_count": null,
   "id": "f4dc7c8b-3281-4002-96c7-88c8db016b56",
   "metadata": {},
   "outputs": [],
   "source": []
  },
  {
   "cell_type": "markdown",
   "id": "028a1257-33ba-422a-972f-459f417f739e",
   "metadata": {},
   "source": [
    "#### Define data quality mask\n",
    "\n",
    "Here are just required that the object by exteneded (i.e., not a point-like star) and that the \n",
    "signal-to-noise in the g,r and i bands all be > 10"
   ]
  },
  {
   "cell_type": "code",
   "execution_count": null,
   "id": "b05df050-2dd9-4474-ac93-18130fd6fecf",
   "metadata": {},
   "outputs": [],
   "source": [
    "mask  = np.bitwise_and(\n",
    "    np.bitwise_and(\n",
    "        t['i_extendedness'] == 1,\n",
    "        t['g_psfFlux'] / t['g_psfFluxErr'] > 10,\n",
    "    ),\n",
    "    np.bitwise_and(\n",
    "        t['i_psfFlux'] / t['i_psfFluxErr'] > 10,\n",
    "        t['r_psfFlux'] / t['r_psfFluxErr'] > 10,\n",
    "    ),\n",
    ")\n"
   ]
  },
  {
   "cell_type": "markdown",
   "id": "107ee183-7cc2-4773-b319-319e2af35b54",
   "metadata": {},
   "source": [
    "#### Get the magnitudes\n",
    "\n",
    "This functions grabs the fluxes from the table we read in, and convert them to magnitudes"
   ]
  },
  {
   "cell_type": "code",
   "execution_count": null,
   "id": "31d4996a-c771-47c5-bea5-0709a4abf7ff",
   "metadata": {},
   "outputs": [],
   "source": [
    "mags_psf = utility_functions.make_mag_dict(t, '{band}_psfFlux', 'ugrizy')\n",
    "mags_cModel = utility_functions.make_mag_dict(t, '{band}_cModelFlux', 'ugrizy')\n",
    "mags_sersic = utility_functions.make_mag_dict(t, '{band}_sersicFlux', 'ugrizy')\n",
    "mags_1p0 = utility_functions.make_mag_dict(t, '{band}_gaap1p0Flux', 'ugrizy')\n",
    "mags_3p0 = utility_functions.make_mag_dict(t, '{band}_gaap3p0Flux', 'ugrizy')"
   ]
  },
  {
   "cell_type": "markdown",
   "id": "c53529d1-5549-4363-9dfc-fe1c810f8262",
   "metadata": {},
   "source": [
    "You might want to explore a bit to see what we just extracted"
   ]
  },
  {
   "cell_type": "code",
   "execution_count": null,
   "id": "2f328250-bd1e-410f-be66-97d825aea621",
   "metadata": {},
   "outputs": [],
   "source": []
  },
  {
   "cell_type": "markdown",
   "id": "37e07c7a-a197-4014-a7ee-8d12e1345613",
   "metadata": {},
   "source": [
    "## Make some plots "
   ]
  },
  {
   "cell_type": "markdown",
   "id": "71b685c6-1691-480e-85bb-68ff5457ffb0",
   "metadata": {},
   "source": [
    "#### Start by comparing the cModel to other fluxes"
   ]
  },
  {
   "cell_type": "code",
   "execution_count": null,
   "id": "a6c91eab-c774-4490-94c1-f47926b1aaeb",
   "metadata": {},
   "outputs": [],
   "source": [
    "plotting_functions.plot_mag_mag_scatter(mags_cModel, mags_psf, 'ugrizy')"
   ]
  },
  {
   "cell_type": "code",
   "execution_count": null,
   "id": "48c6a1f6-eaf8-49f9-bf83-562f9ffe85a9",
   "metadata": {},
   "outputs": [],
   "source": [
    "plotting_functions.plot_mag_mag_scatter(mags_cModel, mags_sersic, 'ugrizy')"
   ]
  },
  {
   "cell_type": "code",
   "execution_count": null,
   "id": "299ca7a1-a371-4684-ab34-731ea1878d75",
   "metadata": {},
   "outputs": [],
   "source": [
    "plotting_functions.plot_mag_mag_resid(mags_cModel, mags_psf, 'ugrizy', mask=mask)"
   ]
  },
  {
   "cell_type": "code",
   "execution_count": null,
   "id": "4cb1ef06-3f78-41ad-b931-81dc3731e402",
   "metadata": {},
   "outputs": [],
   "source": [
    "#plotting_functions.plot_mag_mag_scatter(mags_sersic, mags_psf, 'ugrizy')"
   ]
  },
  {
   "cell_type": "code",
   "execution_count": null,
   "id": "268732c2-98e6-4515-901a-f5e3b83aa062",
   "metadata": {},
   "outputs": [],
   "source": [
    "#plotting_functions.plot_mag_mag_scatter(mags_sersic, mags_psf, 'ugrizy')"
   ]
  },
  {
   "cell_type": "code",
   "execution_count": null,
   "id": "2627a518-5a96-4dd0-9bd7-fd61000825fb",
   "metadata": {},
   "outputs": [],
   "source": [
    "plotting_functions.plot_mag_mag_scatter(mags_1p0, mags_psf, 'ugrizy', mask=mask)"
   ]
  },
  {
   "cell_type": "code",
   "execution_count": null,
   "id": "78605b31-f5a3-410d-8d3c-8e12a0d82abc",
   "metadata": {},
   "outputs": [],
   "source": [
    "plotting_functions.plot_mag_mag_resid(mags_1p0, mags_psf, 'ugrizy', mask=mask)"
   ]
  },
  {
   "cell_type": "code",
   "execution_count": null,
   "id": "40e160b5-3916-40b9-b2e4-f340b79f5df3",
   "metadata": {},
   "outputs": [],
   "source": [
    "plotting_functions.plot_mag_mag_resid(mags_3p0, mags_psf, 'ugrizy', mask=mask)"
   ]
  },
  {
   "cell_type": "code",
   "execution_count": null,
   "id": "af805746-9a01-4d00-a365-3d430c692fc2",
   "metadata": {},
   "outputs": [],
   "source": [
    "plotting_functions.plot_mag_mag_scatter(mags_3p0, mags_psf, 'ugrizy', mask=mask)"
   ]
  },
  {
   "cell_type": "code",
   "execution_count": null,
   "id": "c089fe52-4046-43b1-9dfb-3653589cbab8",
   "metadata": {},
   "outputs": [],
   "source": [
    "plotting_functions.plot_mag_mag_scatter(mags_sersic, mags_psf, 'ugrizy', mask=mask)"
   ]
  },
  {
   "cell_type": "code",
   "execution_count": null,
   "id": "ddfa0aa2-ab75-4ded-9ed4-6b8bf925562a",
   "metadata": {},
   "outputs": [],
   "source": [
    "plotting_functions.plot_mag_mag_resid(mags_sersic, mags_psf, 'ugrizy', mask=mask)"
   ]
  },
  {
   "cell_type": "code",
   "execution_count": null,
   "id": "d3109a59-9b39-47cf-b294-9aa5e0d1c5de",
   "metadata": {},
   "outputs": [],
   "source": [
    "plotting_functions.plot_mag_mag_scatter(mags_cModel, mags_psf, 'ugrizy', mask=mask)"
   ]
  },
  {
   "cell_type": "code",
   "execution_count": null,
   "id": "0f5301ee-3b54-404a-aa48-b630c421d11d",
   "metadata": {},
   "outputs": [],
   "source": [
    "plotting_functions.plot_mag_mag_resid(mags_cModel, mags_psf, 'ugrizy', mask=mask)"
   ]
  },
  {
   "cell_type": "code",
   "execution_count": null,
   "id": "ba33e6f1-91a9-465b-b9ee-7d86632eaaa1",
   "metadata": {},
   "outputs": [],
   "source": [
    "colors_psf = utility_functions.make_color_dict(t, '{band}_psfFlux', 'ugrizy')\n",
    "colors_cModel = utility_functions.make_color_dict(t, '{band}_cModelFlux', 'ugrizy')\n",
    "colors_1p0 = utility_functions.make_color_dict(t, '{band}_gaap1p0Flux', 'ugrizy')\n",
    "colors_3p0 = utility_functions.make_color_dict(t, '{band}_gaap3p0Flux', 'ugrizy')\n",
    "colors_sersic = utility_functions.make_color_dict(t, '{band}_sersicFlux', 'ugrizy')"
   ]
  },
  {
   "cell_type": "code",
   "execution_count": null,
   "id": "51f6f39b-ce56-4d6c-94ab-7b6ac0f881db",
   "metadata": {},
   "outputs": [],
   "source": [
    "plotting_functions.plot_color_resid(colors_cModel, colors_psf, ['u-g', 'g-r', 'r-i', 'i-z', 'z-y'], mask=mask)"
   ]
  },
  {
   "cell_type": "code",
   "execution_count": null,
   "id": "e7820301-9330-4f18-98ef-31f5cc86e933",
   "metadata": {},
   "outputs": [],
   "source": [
    "plotting_functions.plot_color_scatter(colors_cModel, colors_psf, ['u-g', 'g-r', 'r-i', 'i-z', 'z-y'], mask=mask)"
   ]
  },
  {
   "cell_type": "code",
   "execution_count": null,
   "id": "a1f5dd05-9c8e-4ca8-bf91-9bdc2cb5d321",
   "metadata": {},
   "outputs": [],
   "source": [
    "plotting_functions.plot_color_scatter(colors_3p0, colors_psf, ['u-g', 'g-r', 'r-i', 'i-z', 'z-y'], mask=mask, norm=\"log\")"
   ]
  },
  {
   "cell_type": "code",
   "execution_count": null,
   "id": "93a6afc0-bae0-4f22-8866-128a3fcb4207",
   "metadata": {},
   "outputs": [],
   "source": [
    "plotting_functions.plot_color_resid(colors_cModel, colors_psf, ['u-g', 'g-r', 'r-i', 'i-z', 'z-y'], mask=mask)"
   ]
  },
  {
   "cell_type": "code",
   "execution_count": null,
   "id": "a1ab9043-d2f9-41ba-8a1f-17e73937baf2",
   "metadata": {},
   "outputs": [],
   "source": [
    "plotting_functions.plot_color_resid(colors_1p0, colors_psf, ['u-g', 'g-r', 'r-i', 'i-z', 'z-y'], mask=mask)"
   ]
  },
  {
   "cell_type": "code",
   "execution_count": null,
   "id": "c2b7ec0a-321a-4f6e-a1ac-0c94cc61b12a",
   "metadata": {},
   "outputs": [],
   "source": [
    "plotting_functions.plot_color_resid(colors_sersic, colors_psf, ['u-g', 'g-r', 'r-i', 'i-z', 'z-y'], mask=mask)"
   ]
  },
  {
   "cell_type": "code",
   "execution_count": null,
   "id": "55ab6cc4-2c29-41e5-8f4a-669177c91b94",
   "metadata": {},
   "outputs": [],
   "source": [
    "plotting_functions.plot_color_resid(colors_3p0, colors_psf, ['u-g', 'g-r', 'r-i', 'i-z', 'z-y'], mask=mask, norm=\"log\")"
   ]
  },
  {
   "cell_type": "code",
   "execution_count": null,
   "id": "d653a51b-e0a9-471d-b1a4-56f490609fd1",
   "metadata": {},
   "outputs": [],
   "source": []
  }
 ],
 "metadata": {
  "kernelspec": {
   "display_name": "Python 3 (ipykernel)",
   "language": "python",
   "name": "python3"
  },
  "language_info": {
   "codemirror_mode": {
    "name": "ipython",
    "version": 3
   },
   "file_extension": ".py",
   "mimetype": "text/x-python",
   "name": "python",
   "nbconvert_exporter": "python",
   "pygments_lexer": "ipython3",
   "version": "3.12.11"
  }
 },
 "nbformat": 4,
 "nbformat_minor": 5
}
