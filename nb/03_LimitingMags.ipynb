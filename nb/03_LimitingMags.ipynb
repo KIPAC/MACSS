{
 "cells": [
  {
   "cell_type": "markdown",
   "id": "000f1372-e7a9-4864-8c42-7e39c538c3ce",
   "metadata": {},
   "source": [
    "## Exploring limiting magnitudes in Rubin DP1 data\n",
    "\n",
    "This notebook looks at how deep the Rubin DP1 data go in the various filter bands"
   ]
  },
  {
   "cell_type": "markdown",
   "id": "8cd779da-b283-406b-9246-95502127f588",
   "metadata": {},
   "source": [
    "#### Usual imports"
   ]
  },
  {
   "cell_type": "code",
   "execution_count": null,
   "id": "eb0f435a-df4c-4037-bc4b-538940ca9ddf",
   "metadata": {},
   "outputs": [],
   "source": [
    "import os\n",
    "import tables_io\n",
    "import numpy as np\n",
    "import matplotlib.pyplot as plt"
   ]
  },
  {
   "cell_type": "markdown",
   "id": "a6e63042-8540-42b5-a05f-f400701ec05b",
   "metadata": {},
   "source": [
    "#### Change this to match the correct location"
   ]
  },
  {
   "cell_type": "code",
   "execution_count": null,
   "id": "846c697f-18a3-4133-8d5e-287130061541",
   "metadata": {},
   "outputs": [],
   "source": [
    "HOME = os.environ['HOME']\n",
    "pz_dir = f'{HOME}/macss'"
   ]
  },
  {
   "cell_type": "markdown",
   "id": "a67c8ca7-2c8c-4611-8be0-03720a6d2055",
   "metadata": {},
   "source": [
    "#### Get the data, "
   ]
  },
  {
   "cell_type": "code",
   "execution_count": null,
   "id": "0f22a1d0-bb44-4659-a0ec-348cdda91b8e",
   "metadata": {},
   "outputs": [],
   "source": [
    "d = tables_io.read(f\"{pz_dir}/data/dp1_v29.0.0_gold_ECDFS.hdf5\")  # This a file with prepared data (de-reddened magnitudes)\n",
    "t2 = tables_io.read(f'{pz_dir}/data/object.hdf5')  # This is the original catalog data"
   ]
  },
  {
   "cell_type": "markdown",
   "id": "8f9e9963-bfbc-43c0-b85c-2f59dae07c19",
   "metadata": {},
   "source": [
    "#### Here is a switch to select with version of the flux and which bands to use"
   ]
  },
  {
   "cell_type": "code",
   "execution_count": null,
   "id": "e11f624c-69d3-4592-8489-48d19ea066df",
   "metadata": {},
   "outputs": [],
   "source": [
    "flux_type = 'psf'\n",
    "bands = 'ugrizy'"
   ]
  },
  {
   "cell_type": "markdown",
   "id": "0d733fef-feaf-4361-9725-48b665ed4045",
   "metadata": {},
   "source": [
    "#### This functions makes a nice plot of the magnitudes"
   ]
  },
  {
   "cell_type": "code",
   "execution_count": null,
   "id": "683fae3a-77fd-4473-bd46-47dc14c9fa9f",
   "metadata": {},
   "outputs": [],
   "source": [
    "def pretty_plot_mags(d, flux_type, bands):\n",
    "    fig = plt.figure()\n",
    "    axes = fig.subplots(3, 2)\n",
    "    for i, band in enumerate(bands):\n",
    "        icol = i%2\n",
    "        irow = int(i/2)\n",
    "        axs = axes[irow][icol]\n",
    "        axs.hist(d[f\"{band}_{flux_type}Mag\"], np.linspace(15, 30, 151))\n",
    "        axs.set_xlabel(f\"{band} [mag]\")\n",
    "    fig.tight_layout()"
   ]
  },
  {
   "cell_type": "code",
   "execution_count": null,
   "id": "456aa8a4-6c67-48b8-bb08-dacea017857c",
   "metadata": {},
   "outputs": [],
   "source": [
    "pretty_plot_mags(d, flux_type, bands)"
   ]
  },
  {
   "cell_type": "markdown",
   "id": "b3dbed3b-8b22-422e-81df-14a8e5c649e5",
   "metadata": {},
   "source": [
    "#### Make a few masks to apply to the data\n",
    "\n",
    "mask_extend just requires that source by \"extended\", i.e., larger that the point-spread function\n",
    "mask requires \"extendedness\" and that the source be detected at > 10 sigma in the g,r,and i bands\n"
   ]
  },
  {
   "cell_type": "code",
   "execution_count": null,
   "id": "8a429702-22b3-4b78-a9df-8e81833b5d6f",
   "metadata": {},
   "outputs": [],
   "source": [
    "mask  = np.bitwise_and(\n",
    "    np.bitwise_and(\n",
    "        t2['i_extendedness'] == 1,\n",
    "        t2['g_psfFlux'] / t2['g_psfFluxErr'] > 10,\n",
    "    ),\n",
    "    np.bitwise_and(\n",
    "        t2['i_psfFlux'] / t2['i_psfFluxErr'] > 10,\n",
    "        t2['r_psfFlux'] / t2['r_psfFluxErr'] > 10,\n",
    "    ),\n",
    ")\n",
    "mask_extend = t2['i_extendedness'] == 1"
   ]
  },
  {
   "cell_type": "markdown",
   "id": "7e4d7b23-93e6-4240-a239-dce5577281bb",
   "metadata": {},
   "source": [
    "#### These function converts fluxes to magntudes and plots the results"
   ]
  },
  {
   "cell_type": "code",
   "execution_count": null,
   "id": "aafc3189-be89-452f-b228-1d557d32e32b",
   "metadata": {},
   "outputs": [],
   "source": [
    "def fluxes_to_mags(\n",
    "    fluxes: np.ndarray, zero_points: float | np.ndarray = 31.4\n",
    ") -> np.ndarray:\n",
    "    return -2.5 * np.log10(fluxes) + zero_points\n",
    "\n",
    "def pretty_plot_converted_mags(d, flux_type, bands, mask, mask_extend):\n",
    "    fig = plt.figure()\n",
    "    axes = fig.subplots(3, 2)\n",
    "    for i, band in enumerate(bands):\n",
    "        icol = i%2\n",
    "        irow = int(i/2)\n",
    "        axs = axes[irow][icol]\n",
    "        mags = fluxes_to_mags(d[f\"{band}_{flux_type}Flux\"])\n",
    "        axs.hist(mags, np.linspace(15, 30, 151))\n",
    "        axs.hist(mags[mask_extend], np.linspace(15, 30, 151))     \n",
    "        axs.hist(mags[mask], np.linspace(15, 30, 151))\n",
    "        \n",
    "        axs.set_xlabel(f\"{band} [mag]\")\n",
    "    fig.tight_layout()"
   ]
  },
  {
   "cell_type": "code",
   "execution_count": null,
   "id": "ee83081c-8abf-48b0-929c-952e8e2e577c",
   "metadata": {},
   "outputs": [],
   "source": [
    "pretty_plot_converted_mags(t2, 'psf', 'ugrizy', mask, mask_extend)"
   ]
  },
  {
   "cell_type": "markdown",
   "id": "18960846-11a4-492a-b4cd-c0a40f6c142e",
   "metadata": {},
   "source": [
    "#### This function plots the significance of the dectections"
   ]
  },
  {
   "cell_type": "code",
   "execution_count": null,
   "id": "34905a7c-fae5-427e-905c-ebfd07e680c7",
   "metadata": {},
   "outputs": [],
   "source": [
    "def pretty_plot_signif(d, flux_type, bands, mask, mask_extend):\n",
    "    fig = plt.figure()\n",
    "    axes = fig.subplots(3, 2)\n",
    "    for i, band in enumerate(bands):\n",
    "        icol = i%2\n",
    "        irow = int(i/2)\n",
    "        axs = axes[irow][icol]\n",
    "        sigmas = d[f\"{band}_{flux_type}Flux\"] / d[f\"{band}_{flux_type}FluxErr\"]\n",
    "        axs.hist(sigmas, np.logspace(-1, 3, 151))\n",
    "        axs.hist(sigmas[mask_extend], np.logspace(-1, 3, 151))\n",
    "        axs.hist(sigmas[mask], np.logspace(-1, 3, 151))\n",
    "        axs.set_xscale('log')\n",
    "        axs.set_xlabel(f\"{band} [signif]\")\n",
    "    fig.tight_layout()"
   ]
  },
  {
   "cell_type": "code",
   "execution_count": null,
   "id": "13a3a8a8-12f4-4684-8d17-d5c4b1d5f82d",
   "metadata": {},
   "outputs": [],
   "source": [
    "pretty_plot_signif(t2, 'psf', 'ugrizy', mask, mask_extend)"
   ]
  },
  {
   "cell_type": "code",
   "execution_count": null,
   "id": "2550d6d5-f990-403b-af91-ffa22ca4bb86",
   "metadata": {},
   "outputs": [],
   "source": []
  }
 ],
 "metadata": {
  "kernelspec": {
   "display_name": "Python 3 (ipykernel)",
   "language": "python",
   "name": "python3"
  },
  "language_info": {
   "codemirror_mode": {
    "name": "ipython",
    "version": 3
   },
   "file_extension": ".py",
   "mimetype": "text/x-python",
   "name": "python",
   "nbconvert_exporter": "python",
   "pygments_lexer": "ipython3",
   "version": "3.12.9"
  }
 },
 "nbformat": 4,
 "nbformat_minor": 5
}
