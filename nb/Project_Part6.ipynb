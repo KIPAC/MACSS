{
 "cells": [
  {
   "cell_type": "markdown",
   "id": "aabc1601-9de2-47d7-b10f-5ac221481ecb",
   "metadata": {},
   "source": [
    "### Part 6: Going from per-object estimates to ensemble estimates\n",
    "\n",
    "Goals: go from per-object estimates to estimates of the distribution\n",
    "of p(z) for an ensemble of objects. \n",
    "\n",
    "Specifics: Up to this point we have been worrying about the redshifts\n",
    "of individual objects.  There are a lot of times what we care about is\n",
    "actually the distribution of the redshifts of a great many objects.\n",
    "We typically call these n(z) distributions, as opposed to per-object p(z).\n",
    "\n",
    "You will want to: \n",
    "\n",
    "1. come up with a naive distribution of the n(z) for object in the\n",
    "   test sample\n",
    "2. apply the same methodology to a sample of object that we do not have reference redshifts for.\n",
    "3. consider the systematic different between the test sample and the\n",
    "   broader sample and how we might account for those.\n"
   ]
  },
  {
   "cell_type": "code",
   "execution_count": null,
   "id": "71745e40-65b2-4b3c-ad5a-e8609c608c2a",
   "metadata": {},
   "outputs": [],
   "source": []
  }
 ],
 "metadata": {
  "kernelspec": {
   "display_name": "Python 3 (ipykernel)",
   "language": "python",
   "name": "python3"
  },
  "language_info": {
   "codemirror_mode": {
    "name": "ipython",
    "version": 3
   },
   "file_extension": ".py",
   "mimetype": "text/x-python",
   "name": "python",
   "nbconvert_exporter": "python",
   "pygments_lexer": "ipython3",
   "version": "3.12.11"
  }
 },
 "nbformat": 4,
 "nbformat_minor": 5
}
