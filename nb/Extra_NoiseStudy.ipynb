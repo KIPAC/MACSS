{
 "cells": [
  {
   "cell_type": "code",
   "execution_count": null,
   "id": "9e738791-4d24-403c-bc09-b924006d722a",
   "metadata": {},
   "outputs": [],
   "source": [
    "import os\n",
    "import tables_io\n",
    "import numpy as np\n",
    "import matplotlib.pyplot as plt\n",
    "import pyccl as ccl\n",
    "from macss import utility_functions\n",
    "from macss import plotting_functions\n",
    "from macss import admixture_functions\n",
    "from scipy.stats import sigmaclip\n",
    "from astropy.stats import biweight_location, biweight_scale\n",
    "from sklearn.neighbors import KNeighborsRegressor, RadiusNeighborsRegressor"
   ]
  },
  {
   "cell_type": "code",
   "execution_count": null,
   "id": "54db1941-7fdd-4c2e-bcb9-366ce9cce284",
   "metadata": {},
   "outputs": [],
   "source": [
    "HOME = os.environ['HOME']\n",
    "pz_dir = f'{HOME}/macss'"
   ]
  },
  {
   "cell_type": "code",
   "execution_count": null,
   "id": "4465ffab-643c-4662-9831-39395aa78dd3",
   "metadata": {},
   "outputs": [],
   "source": [
    "train = tables_io.read(f\"{pz_dir}/data/dp1_matched_v4_train.hdf5\")\n",
    "test = tables_io.read(f\"{pz_dir}/data/dp1_matched_v4_test.hdf5\")"
   ]
  },
  {
   "cell_type": "code",
   "execution_count": null,
   "id": "12ad5f3a-eaed-4303-a992-ec6e25a02a67",
   "metadata": {},
   "outputs": [],
   "source": []
  },
  {
   "cell_type": "code",
   "execution_count": null,
   "id": "1307299a-6f35-4e70-8ec5-77ca635e98df",
   "metadata": {},
   "outputs": [],
   "source": [
    "train_features = utility_functions.get_band_values(train, '{band}_gaap1p0Mag', 'ugrizy')\n",
    "train_targets = train['redshift']\n",
    "test_features = utility_functions.get_band_values(test, '{band}_gaap1p0Mag', 'ugrizy')\n",
    "test_targets = test['redshift']"
   ]
  },
  {
   "cell_type": "code",
   "execution_count": null,
   "id": "a4c52697-4530-4a57-a7ac-64c0d4e47dac",
   "metadata": {},
   "outputs": [],
   "source": [
    "knr = KNeighborsRegressor()"
   ]
  },
  {
   "cell_type": "code",
   "execution_count": null,
   "id": "67f1f230-0938-46f0-b4a8-e7552329d028",
   "metadata": {},
   "outputs": [],
   "source": [
    "def run_it(reg):\n",
    "    preds = utility_functions.run_regression(reg, train_features, train_targets, test_features)\n",
    "    _ = plotting_functions.plot_true_predict_fancy(test_targets, np.nan_to_num(preds, -0.4))\n",
    "    _ = plotting_functions.plot_biweight_stats_v_redshift(test_targets, preds)"
   ]
  },
  {
   "cell_type": "code",
   "execution_count": null,
   "id": "fb437e2d-edd1-4702-ae3b-b7b086fc2504",
   "metadata": {},
   "outputs": [],
   "source": [
    "run_it(knr)"
   ]
  },
  {
   "cell_type": "code",
   "execution_count": null,
   "id": "ac205648-a73e-4a3c-ab95-9a53bb1ad4fa",
   "metadata": {},
   "outputs": [],
   "source": [
    "noise_grid = np.logspace(-4, 0, 17)"
   ]
  },
  {
   "cell_type": "code",
   "execution_count": null,
   "id": "9e6a87bf-7e76-4f0f-83f9-53fc19abecfd",
   "metadata": {},
   "outputs": [],
   "source": [
    "def doit(reg, nclip=3):\n",
    "    the_dict = {}\n",
    "    inputs = np.hstack([train_features])\n",
    "    est_orig = reg.predict(inputs)\n",
    "    means = []\n",
    "    stds = []\n",
    "    outlier_fracs = []\n",
    "    biweight_means = []\n",
    "    biweight_stds = []\n",
    "    clipped_fracs = []\n",
    "    \n",
    "    for noise in noise_grid:\n",
    "        noisy_mags = admixture_functions.gaussian_noise(train_features, noise_levels=noise*np.ones(6)).T\n",
    "        inputs = np.hstack([noisy_mags])\n",
    "        ad_vals = reg.predict(inputs)\n",
    "        deltas = (ad_vals - est_orig)/(1 + est_orig)\n",
    "        subset_clip, _, _ = sigmaclip(deltas, low=3, high=3)\n",
    "        for _j in range(nclip):\n",
    "            subset_clip, _, _ = sigmaclip(subset_clip, low=3, high=3)\n",
    "\n",
    "        the_dict[noise] = deltas\n",
    "        clipped_fracs.append((len(deltas) - len(subset_clip))/(len(deltas)))\n",
    "        outliers = (np.fabs(deltas) > 0.15).sum() / float(deltas.size)\n",
    "        outlier_fracs.append(outliers)\n",
    "        means.append(deltas.mean())\n",
    "        stds.append(deltas.std())\n",
    "        biweight_means.append(biweight_location(subset_clip))\n",
    "        biweight_stds.append(biweight_scale(subset_clip))\n",
    "    \n",
    "    _ = plt.plot(noise_grid, means, label=r\"mean $\\delta z$\", ls='-.', color='blue')\n",
    "    _ = plt.plot(noise_grid, stds, label=r\"RMS $\\delta z$\", ls='-.', color='green')\n",
    "    _ = plt.plot(noise_grid, biweight_means, label=r\"biweight mean $\\delta z$\", ls='-', color='blue')\n",
    "    _ = plt.plot(noise_grid, biweight_stds, label=r\"biweight RMS $\\delta z$\", ls='-', color='green')    \n",
    "    _ = plt.plot(noise_grid, outlier_fracs, label=r\"f $\\frac{\\delta z}{1+z} > 0.15$\", ls='-', color='cyan')\n",
    "#    _ = plt.plot(admix_grid, clipped_fracs, label=r\"$f_{\\rm outlier}$\", ls='-.', color='cyan')\n",
    "    _ = plt.xscale('log')\n",
    "    _ = plt.legend()\n",
    "    _ = plt.xlabel(\"Noise [mag]\")\n",
    "    _ = plt.ylabel(r\"$\\delta z$\")"
   ]
  },
  {
   "cell_type": "code",
   "execution_count": null,
   "id": "a0ff43da-a12c-4e75-80fa-ab543cb44a13",
   "metadata": {},
   "outputs": [],
   "source": [
    "doit(knr)"
   ]
  },
  {
   "cell_type": "code",
   "execution_count": null,
   "id": "2a168c5b-6071-4d42-a897-3b5232c0f6fc",
   "metadata": {},
   "outputs": [],
   "source": []
  },
  {
   "cell_type": "code",
   "execution_count": null,
   "id": "4432c307-a62a-40f3-93f4-84f6e26d427c",
   "metadata": {},
   "outputs": [],
   "source": []
  }
 ],
 "metadata": {
  "kernelspec": {
   "display_name": "Python 3 (ipykernel)",
   "language": "python",
   "name": "python3"
  },
  "language_info": {
   "codemirror_mode": {
    "name": "ipython",
    "version": 3
   },
   "file_extension": ".py",
   "mimetype": "text/x-python",
   "name": "python",
   "nbconvert_exporter": "python",
   "pygments_lexer": "ipython3",
   "version": "3.12.9"
  }
 },
 "nbformat": 4,
 "nbformat_minor": 5
}
